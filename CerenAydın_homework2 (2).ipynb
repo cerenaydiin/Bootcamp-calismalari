{
  "cells": [
    {
      "cell_type": "markdown",
      "metadata": {
        "id": "c1vQooe_aVxA"
      },
      "source": [
        "# Veri Bilimi Çalışma Soruları\n",
        "\n",
        "\n",
        "Veri seti: [Titanic](https://raw.githubusercontent.com/datasciencedojo/datasets/master/titanic.csv)"
      ]
    },
    {
      "cell_type": "markdown",
      "metadata": {
        "id": "20XzPejqaVxC"
      },
      "source": [
        "## Kolay Sorular"
      ]
    },
    {
      "cell_type": "markdown",
      "metadata": {
        "id": "5ytWkcSaaVxD"
      },
      "source": [
        "**Soru 1**: `Embarked` sütununda kaç tane eksik veri olduğunu bulun."
      ]
    },
    {
      "cell_type": "code",
      "execution_count": 2,
      "metadata": {
        "id": "Dz6LsoXvQ0J8"
      },
      "outputs": [
        {
          "data": {
            "text/plain": [
              "2"
            ]
          },
          "execution_count": 2,
          "metadata": {},
          "output_type": "execute_result"
        }
      ],
      "source": [
        "import pandas as pd\n",
        "import numpy as np\n",
        "# Titanic veri setini yükleme\n",
        "url = \"https://raw.githubusercontent.com/datasciencedojo/datasets/master/titanic.csv\"\n",
        "df = pd.read_csv(url)\n",
        "\n",
        "\n",
        "int(df[\"Embarked\"].isna().sum())\n",
        "#isna().sum() beraber kullanıldığında kaç tane eksik veri olduğunu bulur."
      ]
    },
    {
      "cell_type": "markdown",
      "metadata": {
        "id": "XeYOtIuAaVxD"
      },
      "source": [
        "**Soru 2**: `Cabin` sütunundaki eksik verileri 'Unknown' ile doldurun ve sonucu yeni bir sütun (`Cabin_filled`) olarak kaydedin."
      ]
    },
    {
      "cell_type": "code",
      "execution_count": 9,
      "metadata": {
        "id": "cXAgR-BkQ0yV"
      },
      "outputs": [],
      "source": [
        "df[\"Cabin_filled\"]=df[\"Cabin\"].fillna(\"Unknown\")\n",
        "#fillna eksik NaN değerleri doldurur"
      ]
    },
    {
      "cell_type": "markdown",
      "metadata": {
        "id": "gQDd3SdQaVxE"
      },
      "source": [
        "**Soru 3**: `Age` sütunundaki eksik verileri ortalama yaş ile doldurun."
      ]
    },
    {
      "cell_type": "code",
      "execution_count": 17,
      "metadata": {
        "id": "R024dksmQ13I"
      },
      "outputs": [],
      "source": [
        "ortalama_yas= df[\"Age\"].mean()\n",
        "df[\"Age\"]=df[\"Age\"].fillna(ortalama_yas)"
      ]
    },
    {
      "cell_type": "markdown",
      "metadata": {
        "id": "JGc8qwRDaVxF"
      },
      "source": [
        "**Soru 4**: `Pclass` sütununu kategorik veri tipine (`category`) dönüştürün."
      ]
    },
    {
      "cell_type": "code",
      "execution_count": 14,
      "metadata": {
        "id": "r4EXg4L-Q3pm"
      },
      "outputs": [
        {
          "data": {
            "text/plain": [
              "CategoricalDtype(categories=[1, 2, 3], ordered=False, categories_dtype=int64)"
            ]
          },
          "execution_count": 14,
          "metadata": {},
          "output_type": "execute_result"
        }
      ],
      "source": [
        "df[\"Pclass\"] = df[\"Pclass\"].astype(\"category\")\n",
        "df[\"Pclass\"].dtype\n",
        "#astype 'ın amacı pandas sütunundaki verinin veri tipini değiştirmektir. veri tipi dönüştürme"
      ]
    },
    {
      "cell_type": "markdown",
      "metadata": {
        "id": "YQfXIctjaVxF"
      },
      "source": [
        "**Soru 5**: `Sex` sütunundaki benzersiz değerleri listeleyin."
      ]
    },
    {
      "cell_type": "code",
      "execution_count": 18,
      "metadata": {
        "id": "ALZvVYjuRHMb"
      },
      "outputs": [
        {
          "data": {
            "image/png": "[encoded data removed]",
            "text/plain": [
              "<Figure size 640x480 with 1 Axes>"
            ]
          },
          "metadata": {},
          "output_type": "display_data"
        },
        {
          "data": {
            "text/plain": [
              "<bound method Series.unique of 0        male\n",
              "1      female\n",
              "2      female\n",
              "3      female\n",
              "4        male\n",
              "        ...  \n",
              "886      male\n",
              "887    female\n",
              "888    female\n",
              "889      male\n",
              "890      male\n",
              "Name: Sex, Length: 891, dtype: object>"
            ]
          },
          "execution_count": 18,
          "metadata": {},
          "output_type": "execute_result"
        }
      ],
      "source": [
        "import matplotlib.pyplot as plt\n",
        "\n",
        "counts = df['Sex'].value_counts()\n",
        "counts.plot(kind='bar')\n",
        "plt.title('Sex Sütunundaki Benzersiz Değerlerin Sayısı')\n",
        "plt.xlabel('Sex')\n",
        "plt.ylabel('Sayı')\n",
        "plt.show()\n",
        "df[\"Sex\"].unique"
      ]
    },
    {
      "cell_type": "markdown",
      "metadata": {
        "id": "NT3-8V3NaVxF"
      },
      "source": [
        "**Soru 6**: `Sex` sütununu LabelEncoder kullanarak sayısal değerlere dönüştürün (`male=0`, `female=1`)."
      ]
    },
    {
      "cell_type": "code",
      "execution_count": 35,
      "metadata": {
        "id": "LxHprFo7RH1B"
      },
      "outputs": [
        {
          "data": {
            "text/html": [
              "<div>\n",
              "<style scoped>\n",
              "    .dataframe tbody tr th:only-of-type {\n",
              "        vertical-align: middle;\n",
              "    }\n",
              "\n",
              "    .dataframe tbody tr th {\n",
              "        vertical-align: top;\n",
              "    }\n",
              "\n",
              "    .dataframe thead th {\n",
              "        text-align: right;\n",
              "    }\n",
              "</style>\n",
              "<table border=\"1\" class=\"dataframe\">\n",
              "  <thead>\n",
              "    <tr style=\"text-align: right;\">\n",
              "      <th></th>\n",
              "      <th>Sex</th>\n",
              "      <th>Sex_encoded</th>\n",
              "    </tr>\n",
              "  </thead>\n",
              "  <tbody>\n",
              "    <tr>\n",
              "      <th>0</th>\n",
              "      <td>male</td>\n",
              "      <td>1</td>\n",
              "    </tr>\n",
              "    <tr>\n",
              "      <th>1</th>\n",
              "      <td>female</td>\n",
              "      <td>0</td>\n",
              "    </tr>\n",
              "    <tr>\n",
              "      <th>2</th>\n",
              "      <td>female</td>\n",
              "      <td>0</td>\n",
              "    </tr>\n",
              "    <tr>\n",
              "      <th>3</th>\n",
              "      <td>female</td>\n",
              "      <td>0</td>\n",
              "    </tr>\n",
              "    <tr>\n",
              "      <th>4</th>\n",
              "      <td>male</td>\n",
              "      <td>1</td>\n",
              "    </tr>\n",
              "    <tr>\n",
              "      <th>5</th>\n",
              "      <td>male</td>\n",
              "      <td>1</td>\n",
              "    </tr>\n",
              "    <tr>\n",
              "      <th>6</th>\n",
              "      <td>male</td>\n",
              "      <td>1</td>\n",
              "    </tr>\n",
              "    <tr>\n",
              "      <th>7</th>\n",
              "      <td>male</td>\n",
              "      <td>1</td>\n",
              "    </tr>\n",
              "    <tr>\n",
              "      <th>8</th>\n",
              "      <td>female</td>\n",
              "      <td>0</td>\n",
              "    </tr>\n",
              "    <tr>\n",
              "      <th>9</th>\n",
              "      <td>female</td>\n",
              "      <td>0</td>\n",
              "    </tr>\n",
              "  </tbody>\n",
              "</table>\n",
              "</div>"
            ],
            "text/plain": [
              "      Sex  Sex_encoded\n",
              "0    male            1\n",
              "1  female            0\n",
              "2  female            0\n",
              "3  female            0\n",
              "4    male            1\n",
              "5    male            1\n",
              "6    male            1\n",
              "7    male            1\n",
              "8  female            0\n",
              "9  female            0"
            ]
          },
          "execution_count": 35,
          "metadata": {},
          "output_type": "execute_result"
        }
      ],
      "source": [
        "#LabelEncoder kategorik metin verilerini sayıya dönüştürür\n",
        "from sklearn.preprocessing import LabelEncoder\n",
        "df[\"Sex_encoded\"]=LabelEncoder().fit_transform(df[\"Sex\"])\n",
        "df[['Sex', 'Sex_encoded']].head(10)"
      ]
    },
    {
      "cell_type": "markdown",
      "metadata": {
        "id": "aTvPCv7BaVxF"
      },
      "source": [
        "**Soru 7**: `Name` sütunundaki değerleri küçük harfe çevirin ve yeni bir sütun (`Name_lower`) oluşturun."
      ]
    },
    {
      "cell_type": "code",
      "execution_count": 41,
      "metadata": {
        "id": "NKB5m1YnRIaM"
      },
      "outputs": [
        {
          "name": "stdout",
          "output_type": "stream",
          "text": [
            "                                                Name  \\\n",
            "0                            Braund, Mr. Owen Harris   \n",
            "1  Cumings, Mrs. John Bradley (Florence Briggs Th...   \n",
            "2                             Heikkinen, Miss. Laina   \n",
            "3       Futrelle, Mrs. Jacques Heath (Lily May Peel)   \n",
            "4                           Allen, Mr. William Henry   \n",
            "\n",
            "                                          Name_lower  \n",
            "0                            braund, mr. owen harris  \n",
            "1  cumings, mrs. john bradley (florence briggs th...  \n",
            "2                             heikkinen, miss. laina  \n",
            "3       futrelle, mrs. jacques heath (lily may peel)  \n",
            "4                           allen, mr. william henry  \n"
          ]
        }
      ],
      "source": [
        "df[\"Name_lower\"] = df[\"Name\"].apply(str.lower)\n",
        "print(df[['Name', 'Name_lower']].head())\n"
      ]
    },
    {
      "cell_type": "markdown",
      "metadata": {
        "id": "jdPuC7hxaVxG"
      },
      "source": [
        "**Soru 8**: `Fare` sütununu MinMaxScaler ile [0,1] aralığına normalleştirin."
      ]
    },
    {
      "cell_type": "code",
      "execution_count": 45,
      "metadata": {
        "id": "8IyHxycDRLqc"
      },
      "outputs": [
        {
          "data": {
            "text/html": [
              "<div>\n",
              "<style scoped>\n",
              "    .dataframe tbody tr th:only-of-type {\n",
              "        vertical-align: middle;\n",
              "    }\n",
              "\n",
              "    .dataframe tbody tr th {\n",
              "        vertical-align: top;\n",
              "    }\n",
              "\n",
              "    .dataframe thead th {\n",
              "        text-align: right;\n",
              "    }\n",
              "</style>\n",
              "<table border=\"1\" class=\"dataframe\">\n",
              "  <thead>\n",
              "    <tr style=\"text-align: right;\">\n",
              "      <th></th>\n",
              "      <th>Fare</th>\n",
              "      <th>Fare_minmax</th>\n",
              "    </tr>\n",
              "  </thead>\n",
              "  <tbody>\n",
              "    <tr>\n",
              "      <th>0</th>\n",
              "      <td>7.2500</td>\n",
              "      <td>0.014151</td>\n",
              "    </tr>\n",
              "    <tr>\n",
              "      <th>1</th>\n",
              "      <td>71.2833</td>\n",
              "      <td>0.139136</td>\n",
              "    </tr>\n",
              "    <tr>\n",
              "      <th>2</th>\n",
              "      <td>7.9250</td>\n",
              "      <td>0.015469</td>\n",
              "    </tr>\n",
              "    <tr>\n",
              "      <th>3</th>\n",
              "      <td>53.1000</td>\n",
              "      <td>0.103644</td>\n",
              "    </tr>\n",
              "    <tr>\n",
              "      <th>4</th>\n",
              "      <td>8.0500</td>\n",
              "      <td>0.015713</td>\n",
              "    </tr>\n",
              "  </tbody>\n",
              "</table>\n",
              "</div>"
            ],
            "text/plain": [
              "      Fare  Fare_minmax\n",
              "0   7.2500     0.014151\n",
              "1  71.2833     0.139136\n",
              "2   7.9250     0.015469\n",
              "3  53.1000     0.103644\n",
              "4   8.0500     0.015713"
            ]
          },
          "execution_count": 45,
          "metadata": {},
          "output_type": "execute_result"
        }
      ],
      "source": [
        "from sklearn.preprocessing import MinMaxScaler\n",
        "df['Fare_minmax'] = MinMaxScaler().fit_transform(df[['Fare']])\n",
        "df[['Fare', 'Fare_minmax']].head()"
      ]
    },
    {
      "cell_type": "markdown",
      "metadata": {
        "id": "vpaEt-t2aVxG"
      },
      "source": [
        "**Soru 9**: `Ticket` sütununda yalnızca rakamlardan oluşan değerleri bulun (`str.isdigit`)."
      ]
    },
    {
      "cell_type": "code",
      "execution_count": 49,
      "metadata": {
        "id": "5CNhpX_tRM8H"
      },
      "outputs": [
        {
          "data": {
            "text/html": [
              "<div>\n",
              "<style scoped>\n",
              "    .dataframe tbody tr th:only-of-type {\n",
              "        vertical-align: middle;\n",
              "    }\n",
              "\n",
              "    .dataframe tbody tr th {\n",
              "        vertical-align: top;\n",
              "    }\n",
              "\n",
              "    .dataframe thead th {\n",
              "        text-align: right;\n",
              "    }\n",
              "</style>\n",
              "<table border=\"1\" class=\"dataframe\">\n",
              "  <thead>\n",
              "    <tr style=\"text-align: right;\">\n",
              "      <th></th>\n",
              "      <th>PassengerId</th>\n",
              "      <th>Survived</th>\n",
              "      <th>Pclass</th>\n",
              "      <th>Name</th>\n",
              "      <th>Sex</th>\n",
              "      <th>Age</th>\n",
              "      <th>SibSp</th>\n",
              "      <th>Parch</th>\n",
              "      <th>Ticket</th>\n",
              "      <th>Fare</th>\n",
              "      <th>Cabin</th>\n",
              "      <th>Embarked</th>\n",
              "      <th>Cabin_filled</th>\n",
              "      <th>Sex_encoded</th>\n",
              "      <th>Name_lower</th>\n",
              "      <th>Fare_minmax</th>\n",
              "    </tr>\n",
              "  </thead>\n",
              "  <tbody>\n",
              "    <tr>\n",
              "      <th>3</th>\n",
              "      <td>4</td>\n",
              "      <td>1</td>\n",
              "      <td>1</td>\n",
              "      <td>Futrelle, Mrs. Jacques Heath (Lily May Peel)</td>\n",
              "      <td>female</td>\n",
              "      <td>35.0</td>\n",
              "      <td>1</td>\n",
              "      <td>0</td>\n",
              "      <td>113803</td>\n",
              "      <td>53.1000</td>\n",
              "      <td>C123</td>\n",
              "      <td>S</td>\n",
              "      <td>C123</td>\n",
              "      <td>0</td>\n",
              "      <td>futrelle, mrs. jacques heath (lily may peel)</td>\n",
              "      <td>0.103644</td>\n",
              "    </tr>\n",
              "    <tr>\n",
              "      <th>4</th>\n",
              "      <td>5</td>\n",
              "      <td>0</td>\n",
              "      <td>3</td>\n",
              "      <td>Allen, Mr. William Henry</td>\n",
              "      <td>male</td>\n",
              "      <td>35.0</td>\n",
              "      <td>0</td>\n",
              "      <td>0</td>\n",
              "      <td>373450</td>\n",
              "      <td>8.0500</td>\n",
              "      <td>NaN</td>\n",
              "      <td>S</td>\n",
              "      <td>Unknown</td>\n",
              "      <td>1</td>\n",
              "      <td>allen, mr. william henry</td>\n",
              "      <td>0.015713</td>\n",
              "    </tr>\n",
              "    <tr>\n",
              "      <th>5</th>\n",
              "      <td>6</td>\n",
              "      <td>0</td>\n",
              "      <td>3</td>\n",
              "      <td>Moran, Mr. James</td>\n",
              "      <td>male</td>\n",
              "      <td>NaN</td>\n",
              "      <td>0</td>\n",
              "      <td>0</td>\n",
              "      <td>330877</td>\n",
              "      <td>8.4583</td>\n",
              "      <td>NaN</td>\n",
              "      <td>Q</td>\n",
              "      <td>Unknown</td>\n",
              "      <td>1</td>\n",
              "      <td>moran, mr. james</td>\n",
              "      <td>0.016510</td>\n",
              "    </tr>\n",
              "    <tr>\n",
              "      <th>6</th>\n",
              "      <td>7</td>\n",
              "      <td>0</td>\n",
              "      <td>1</td>\n",
              "      <td>McCarthy, Mr. Timothy J</td>\n",
              "      <td>male</td>\n",
              "      <td>54.0</td>\n",
              "      <td>0</td>\n",
              "      <td>0</td>\n",
              "      <td>17463</td>\n",
              "      <td>51.8625</td>\n",
              "      <td>E46</td>\n",
              "      <td>S</td>\n",
              "      <td>E46</td>\n",
              "      <td>1</td>\n",
              "      <td>mccarthy, mr. timothy j</td>\n",
              "      <td>0.101229</td>\n",
              "    </tr>\n",
              "    <tr>\n",
              "      <th>7</th>\n",
              "      <td>8</td>\n",
              "      <td>0</td>\n",
              "      <td>3</td>\n",
              "      <td>Palsson, Master. Gosta Leonard</td>\n",
              "      <td>male</td>\n",
              "      <td>2.0</td>\n",
              "      <td>3</td>\n",
              "      <td>1</td>\n",
              "      <td>349909</td>\n",
              "      <td>21.0750</td>\n",
              "      <td>NaN</td>\n",
              "      <td>S</td>\n",
              "      <td>Unknown</td>\n",
              "      <td>1</td>\n",
              "      <td>palsson, master. gosta leonard</td>\n",
              "      <td>0.041136</td>\n",
              "    </tr>\n",
              "  </tbody>\n",
              "</table>\n",
              "</div>"
            ],
            "text/plain": [
              "   PassengerId  Survived Pclass                                          Name  \\\n",
              "3            4         1      1  Futrelle, Mrs. Jacques Heath (Lily May Peel)   \n",
              "4            5         0      3                      Allen, Mr. William Henry   \n",
              "5            6         0      3                              Moran, Mr. James   \n",
              "6            7         0      1                       McCarthy, Mr. Timothy J   \n",
              "7            8         0      3                Palsson, Master. Gosta Leonard   \n",
              "\n",
              "      Sex   Age  SibSp  Parch  Ticket     Fare Cabin Embarked Cabin_filled  \\\n",
              "3  female  35.0      1      0  113803  53.1000  C123        S         C123   \n",
              "4    male  35.0      0      0  373450   8.0500   NaN        S      Unknown   \n",
              "5    male   NaN      0      0  330877   8.4583   NaN        Q      Unknown   \n",
              "6    male  54.0      0      0   17463  51.8625   E46        S          E46   \n",
              "7    male   2.0      3      1  349909  21.0750   NaN        S      Unknown   \n",
              "\n",
              "   Sex_encoded                                    Name_lower  Fare_minmax  \n",
              "3            0  futrelle, mrs. jacques heath (lily may peel)     0.103644  \n",
              "4            1                      allen, mr. william henry     0.015713  \n",
              "5            1                              moran, mr. james     0.016510  \n",
              "6            1                       mccarthy, mr. timothy j     0.101229  \n",
              "7            1                palsson, master. gosta leonard     0.041136  "
            ]
          },
          "execution_count": 49,
          "metadata": {},
          "output_type": "execute_result"
        }
      ],
      "source": [
        "df[df[\"Ticket\"].str.isdigit()].head(5)"
      ]
    },
    {
      "cell_type": "markdown",
      "metadata": {
        "id": "gDFODoylaVxG"
      },
      "source": [
        "**Soru 10**: `Age` sütununu StandardScaler ile standardize edin (ortalama 0, standart sapma 1)."
      ]
    },
    {
      "cell_type": "code",
      "execution_count": 53,
      "metadata": {
        "id": "AnTT5ynnROQD"
      },
      "outputs": [
        {
          "name": "stdout",
          "output_type": "stream",
          "text": [
            "    Age   Age_std\n",
            "0  22.0 -0.530377\n",
            "1  38.0  0.571831\n",
            "2  26.0 -0.254825\n",
            "3  35.0  0.365167\n",
            "4  35.0  0.365167\n"
          ]
        }
      ],
      "source": [
        "from sklearn.preprocessing import StandardScaler\n",
        "std_scaler = StandardScaler()\n",
        "df[\"Age_std\"] = std_scaler.fit_transform(df[[\"Age\"]])\n",
        "print(df[['Age', 'Age_std']].head())"
      ]
    },
    {
      "cell_type": "markdown",
      "metadata": {
        "id": "dc1lhSCqaVxG"
      },
      "source": [
        "## Orta Düzey Sorular"
      ]
    },
    {
      "cell_type": "markdown",
      "metadata": {
        "id": "ziuyRhRQaVxG"
      },
      "source": [
        "**Soru 11**: `Age` sütunundaki eksik verileri, `Pclass` gruplarına göre medyan ile doldurun."
      ]
    },
    {
      "cell_type": "code",
      "execution_count": 37,
      "metadata": {
        "id": "4zwTh_EeRPyV"
      },
      "outputs": [],
      "source": [
        "df['Age'] = df.groupby('Pclass')['Age'].transform(lambda x: x.fillna(x.median()))\n"
      ]
    },
    {
      "cell_type": "markdown",
      "metadata": {
        "id": "BhN_2La5aVxH"
      },
      "source": [
        "**Soru 12**: `Fare` sütununda IQR yöntemiyle aykırı değerleri tespit edin ve aykırı olan satırların indekslerini listeleyin."
      ]
    },
    {
      "cell_type": "code",
      "execution_count": 68,
      "metadata": {
        "id": "WB9Vc5EORQPB"
      },
      "outputs": [
        {
          "name": "stdout",
          "output_type": "stream",
          "text": [
            "[1, 27, 31, 34, 52, 61, 62, 72, 88, 102, 118, 120, 124, 139, 151, 159, 180, 195, 201, 215, 218, 224, 230, 245, 256, 257, 258, 262, 268, 269, 275, 290, 291, 297, 299, 305, 306, 307, 310, 311, 318, 319, 324, 325, 332, 334, 336, 337, 341, 366, 369, 373, 375, 377, 380, 385, 390, 393, 412, 435, 438, 445, 453, 484, 486, 496, 498, 504, 505, 520, 527, 537, 540, 544, 550, 557, 558, 581, 585, 587, 591, 609, 627, 641, 645, 655, 659, 660, 665, 679, 681, 689, 698, 700, 708, 716, 730, 737, 741, 742, 745, 759, 763, 765, 779, 789, 792, 802, 820, 829, 835, 846, 849, 856, 863, 879]\n"
          ]
        }
      ],
      "source": [
        "import seaborn as sns\n",
        "# 1. Çeyrek (Q1) ve 3. Çeyrek (Q3) hesapla\n",
        "Q1 = df['Fare'].quantile(0.25)\n",
        "Q3 = df['Fare'].quantile(0.75)\n",
        "IQR = Q3 - Q1\n",
        "# Aykırı değer sınırlarını belirle\n",
        "alt_sinir = Q1 - 1.5 * IQR\n",
        "ust_sinir = Q3 + 1.5 * IQR\n",
        "\n",
        "aykiri_indeksler = df[(df['Fare'] < alt_sinir) | (df['Fare'] > ust_sinir)].index\n",
        "print(aykiri_indeksler.tolist())\n",
        "\n",
        "\n"
      ]
    },
    {
      "cell_type": "markdown",
      "metadata": {
        "id": "Ls9q_ul8aVxH"
      },
      "source": [
        "**Soru 13**: `Embarked` sütununu one-hot encoding ile kodlayın ve dummy tuzağını önlemek için bir sütunu silin."
      ]
    },
    {
      "cell_type": "code",
      "execution_count": 4,
      "metadata": {
        "id": "joEQ-xQeRRgd"
      },
      "outputs": [
        {
          "data": {
            "text/html": [
              "<div>\n",
              "<style scoped>\n",
              "    .dataframe tbody tr th:only-of-type {\n",
              "        vertical-align: middle;\n",
              "    }\n",
              "\n",
              "    .dataframe tbody tr th {\n",
              "        vertical-align: top;\n",
              "    }\n",
              "\n",
              "    .dataframe thead th {\n",
              "        text-align: right;\n",
              "    }\n",
              "</style>\n",
              "<table border=\"1\" class=\"dataframe\">\n",
              "  <thead>\n",
              "    <tr style=\"text-align: right;\">\n",
              "      <th></th>\n",
              "      <th>PassengerId</th>\n",
              "      <th>Survived</th>\n",
              "      <th>Pclass</th>\n",
              "      <th>Name</th>\n",
              "      <th>Sex</th>\n",
              "      <th>Age</th>\n",
              "      <th>SibSp</th>\n",
              "      <th>Parch</th>\n",
              "      <th>Ticket</th>\n",
              "      <th>Fare</th>\n",
              "      <th>Cabin</th>\n",
              "      <th>Embarked</th>\n",
              "      <th>Q</th>\n",
              "      <th>S</th>\n",
              "    </tr>\n",
              "  </thead>\n",
              "  <tbody>\n",
              "    <tr>\n",
              "      <th>0</th>\n",
              "      <td>1</td>\n",
              "      <td>0</td>\n",
              "      <td>3</td>\n",
              "      <td>Braund, Mr. Owen Harris</td>\n",
              "      <td>male</td>\n",
              "      <td>22.0</td>\n",
              "      <td>1</td>\n",
              "      <td>0</td>\n",
              "      <td>A/5 21171</td>\n",
              "      <td>7.2500</td>\n",
              "      <td>NaN</td>\n",
              "      <td>S</td>\n",
              "      <td>False</td>\n",
              "      <td>True</td>\n",
              "    </tr>\n",
              "    <tr>\n",
              "      <th>1</th>\n",
              "      <td>2</td>\n",
              "      <td>1</td>\n",
              "      <td>1</td>\n",
              "      <td>Cumings, Mrs. John Bradley (Florence Briggs Th...</td>\n",
              "      <td>female</td>\n",
              "      <td>38.0</td>\n",
              "      <td>1</td>\n",
              "      <td>0</td>\n",
              "      <td>PC 17599</td>\n",
              "      <td>71.2833</td>\n",
              "      <td>C85</td>\n",
              "      <td>C</td>\n",
              "      <td>False</td>\n",
              "      <td>False</td>\n",
              "    </tr>\n",
              "    <tr>\n",
              "      <th>2</th>\n",
              "      <td>3</td>\n",
              "      <td>1</td>\n",
              "      <td>3</td>\n",
              "      <td>Heikkinen, Miss. Laina</td>\n",
              "      <td>female</td>\n",
              "      <td>26.0</td>\n",
              "      <td>0</td>\n",
              "      <td>0</td>\n",
              "      <td>STON/O2. 3101282</td>\n",
              "      <td>7.9250</td>\n",
              "      <td>NaN</td>\n",
              "      <td>S</td>\n",
              "      <td>False</td>\n",
              "      <td>True</td>\n",
              "    </tr>\n",
              "    <tr>\n",
              "      <th>3</th>\n",
              "      <td>4</td>\n",
              "      <td>1</td>\n",
              "      <td>1</td>\n",
              "      <td>Futrelle, Mrs. Jacques Heath (Lily May Peel)</td>\n",
              "      <td>female</td>\n",
              "      <td>35.0</td>\n",
              "      <td>1</td>\n",
              "      <td>0</td>\n",
              "      <td>113803</td>\n",
              "      <td>53.1000</td>\n",
              "      <td>C123</td>\n",
              "      <td>S</td>\n",
              "      <td>False</td>\n",
              "      <td>True</td>\n",
              "    </tr>\n",
              "    <tr>\n",
              "      <th>4</th>\n",
              "      <td>5</td>\n",
              "      <td>0</td>\n",
              "      <td>3</td>\n",
              "      <td>Allen, Mr. William Henry</td>\n",
              "      <td>male</td>\n",
              "      <td>35.0</td>\n",
              "      <td>0</td>\n",
              "      <td>0</td>\n",
              "      <td>373450</td>\n",
              "      <td>8.0500</td>\n",
              "      <td>NaN</td>\n",
              "      <td>S</td>\n",
              "      <td>False</td>\n",
              "      <td>True</td>\n",
              "    </tr>\n",
              "  </tbody>\n",
              "</table>\n",
              "</div>"
            ],
            "text/plain": [
              "   PassengerId  Survived  Pclass  \\\n",
              "0            1         0       3   \n",
              "1            2         1       1   \n",
              "2            3         1       3   \n",
              "3            4         1       1   \n",
              "4            5         0       3   \n",
              "\n",
              "                                                Name     Sex   Age  SibSp  \\\n",
              "0                            Braund, Mr. Owen Harris    male  22.0      1   \n",
              "1  Cumings, Mrs. John Bradley (Florence Briggs Th...  female  38.0      1   \n",
              "2                             Heikkinen, Miss. Laina  female  26.0      0   \n",
              "3       Futrelle, Mrs. Jacques Heath (Lily May Peel)  female  35.0      1   \n",
              "4                           Allen, Mr. William Henry    male  35.0      0   \n",
              "\n",
              "   Parch            Ticket     Fare Cabin Embarked      Q      S  \n",
              "0      0         A/5 21171   7.2500   NaN        S  False   True  \n",
              "1      0          PC 17599  71.2833   C85        C  False  False  \n",
              "2      0  STON/O2. 3101282   7.9250   NaN        S  False   True  \n",
              "3      0            113803  53.1000  C123        S  False   True  \n",
              "4      0            373450   8.0500   NaN        S  False   True  "
            ]
          },
          "execution_count": 4,
          "metadata": {},
          "output_type": "execute_result"
        }
      ],
      "source": [
        "from sklearn.preprocessing import OneHotEncoder\n",
        "import pandas as pd\n",
        "embarked_dummies = pd.get_dummies(df['Embarked'], drop_first=True)\n",
        "df = pd.concat([df, embarked_dummies], axis=1)\n",
        "df.head()\n"
      ]
    },
    {
      "cell_type": "markdown",
      "metadata": {
        "id": "BnB9I-s9aVxH"
      },
      "source": [
        "**Soru 14**: `Name` sütununda 'Miss.' içeren satırları filtreleyin ve yeni bir sütun (`Is_Miss`) oluşturun (1: Miss, 0: Değil)."
      ]
    },
    {
      "cell_type": "code",
      "execution_count": 13,
      "metadata": {
        "id": "7KQCrWmhRSjP"
      },
      "outputs": [
        {
          "name": "stdout",
          "output_type": "stream",
          "text": [
            "                                                Name  Is_Miss\n",
            "0                            Braund, Mr. Owen Harris        0\n",
            "1  Cumings, Mrs. John Bradley (Florence Briggs Th...        0\n",
            "2                             Heikkinen, Miss. Laina        1\n",
            "3       Futrelle, Mrs. Jacques Heath (Lily May Peel)        0\n",
            "4                           Allen, Mr. William Henry        0\n",
            "5                                   Moran, Mr. James        0\n",
            "6                            McCarthy, Mr. Timothy J        0\n",
            "7                     Palsson, Master. Gosta Leonard        0\n",
            "8  Johnson, Mrs. Oscar W (Elisabeth Vilhelmina Berg)        0\n",
            "9                Nasser, Mrs. Nicholas (Adele Achem)        0\n"
          ]
        }
      ],
      "source": [
        "df['Is_Miss'] = df['Name'].str.contains('Miss.', na=False)\n",
        "df['Is_Miss'] = df['Is_Miss'].astype(int)\n",
        "df_miss = df[['Name', 'Is_Miss']]\n",
        "print(df_miss.head(10))"
      ]
    },
    {
      "cell_type": "markdown",
      "metadata": {
        "id": "69h1gRreaVxH"
      },
      "source": [
        "**Soru 15**: `Ticket` sütunundaki değerlerin başındaki ve sonundaki boşlukları kaldırın (`str.strip`)."
      ]
    },
    {
      "cell_type": "code",
      "execution_count": 13,
      "metadata": {
        "id": "vP3sTWxfRz_A"
      },
      "outputs": [
        {
          "data": {
            "text/html": [
              "<div>\n",
              "<style scoped>\n",
              "    .dataframe tbody tr th:only-of-type {\n",
              "        vertical-align: middle;\n",
              "    }\n",
              "\n",
              "    .dataframe tbody tr th {\n",
              "        vertical-align: top;\n",
              "    }\n",
              "\n",
              "    .dataframe thead th {\n",
              "        text-align: right;\n",
              "    }\n",
              "</style>\n",
              "<table border=\"1\" class=\"dataframe\">\n",
              "  <thead>\n",
              "    <tr style=\"text-align: right;\">\n",
              "      <th></th>\n",
              "      <th>Ticket</th>\n",
              "    </tr>\n",
              "  </thead>\n",
              "  <tbody>\n",
              "    <tr>\n",
              "      <th>0</th>\n",
              "      <td>A/5 21171</td>\n",
              "    </tr>\n",
              "    <tr>\n",
              "      <th>1</th>\n",
              "      <td>PC 17599</td>\n",
              "    </tr>\n",
              "    <tr>\n",
              "      <th>2</th>\n",
              "      <td>STON/O2. 3101282</td>\n",
              "    </tr>\n",
              "    <tr>\n",
              "      <th>3</th>\n",
              "      <td>113803</td>\n",
              "    </tr>\n",
              "    <tr>\n",
              "      <th>4</th>\n",
              "      <td>373450</td>\n",
              "    </tr>\n",
              "  </tbody>\n",
              "</table>\n",
              "</div>"
            ],
            "text/plain": [
              "             Ticket\n",
              "0         A/5 21171\n",
              "1          PC 17599\n",
              "2  STON/O2. 3101282\n",
              "3            113803\n",
              "4            373450"
            ]
          },
          "execution_count": 13,
          "metadata": {},
          "output_type": "execute_result"
        }
      ],
      "source": [
        "df[\"Ticket\"] = df[\"Ticket\"].str.strip()\n",
        "df[['Ticket']].head()\n",
        "#.str.strip() → Her bir hücredeki baş ve sondaki boşlukları siler"
      ]
    },
    {
      "cell_type": "markdown",
      "metadata": {
        "id": "PXSf1ERhaVxH"
      },
      "source": [
        "**Soru 16**: `Age` sütununda Z-Score yöntemiyle (|Z| > 3) aykırı değerleri tespit edin."
      ]
    },
    {
      "cell_type": "code",
      "execution_count": null,
      "metadata": {
        "id": "pmJICk2tRWLU"
      },
      "outputs": [
        {
          "name": "stdout",
          "output_type": "stream",
          "text": [
            "      Age  Age_zscore\n",
            "630  80.0    3.462699\n",
            "851  74.0    3.049660\n"
          ]
        }
      ],
      "source": [
        "#Z-Score, bir değerin ortalamadan kaç standart sapma uzaklıkta olduğunu gösterir.\n",
        "#Z-Score = veri - ortalama / std sapma\n",
        "import numpy as np\n",
        "age_mean = df[\"Age\"].mean()\n",
        "age_std = df[\"Age\"].std()\n",
        "df[\"Age_zscore\"] = (df[\"Age\"] - age_mean) / age_std\n",
        "print(df[np.abs(df[\"Age_zscore\"]) > 3][[\"Age\", \"Age_zscore\"]])\n"
      ]
    },
    {
      "cell_type": "markdown",
      "metadata": {
        "id": "ztky24UdaVxH"
      },
      "source": [
        "**Soru 17**: `Sex` ve `Embarked` sütunlarını birleştirerek yeni bir özellik oluşturun (ör. `male_S`, `female_Q`) ve `zip` fonksiyonunu kullanın."
      ]
    },
    {
      "cell_type": "code",
      "execution_count": 13,
      "metadata": {
        "id": "Zv6nIe1qRXN5"
      },
      "outputs": [
        {
          "data": {
            "text/html": [
              "<div>\n",
              "<style scoped>\n",
              "    .dataframe tbody tr th:only-of-type {\n",
              "        vertical-align: middle;\n",
              "    }\n",
              "\n",
              "    .dataframe tbody tr th {\n",
              "        vertical-align: top;\n",
              "    }\n",
              "\n",
              "    .dataframe thead th {\n",
              "        text-align: right;\n",
              "    }\n",
              "</style>\n",
              "<table border=\"1\" class=\"dataframe\">\n",
              "  <thead>\n",
              "    <tr style=\"text-align: right;\">\n",
              "      <th></th>\n",
              "      <th>Embarked</th>\n",
              "      <th>Sex</th>\n",
              "      <th>Embarked_Sex</th>\n",
              "    </tr>\n",
              "  </thead>\n",
              "  <tbody>\n",
              "    <tr>\n",
              "      <th>0</th>\n",
              "      <td>S</td>\n",
              "      <td>male</td>\n",
              "      <td>S_male</td>\n",
              "    </tr>\n",
              "    <tr>\n",
              "      <th>1</th>\n",
              "      <td>C</td>\n",
              "      <td>female</td>\n",
              "      <td>C_female</td>\n",
              "    </tr>\n",
              "    <tr>\n",
              "      <th>2</th>\n",
              "      <td>S</td>\n",
              "      <td>female</td>\n",
              "      <td>S_female</td>\n",
              "    </tr>\n",
              "    <tr>\n",
              "      <th>3</th>\n",
              "      <td>S</td>\n",
              "      <td>female</td>\n",
              "      <td>S_female</td>\n",
              "    </tr>\n",
              "    <tr>\n",
              "      <th>4</th>\n",
              "      <td>S</td>\n",
              "      <td>male</td>\n",
              "      <td>S_male</td>\n",
              "    </tr>\n",
              "  </tbody>\n",
              "</table>\n",
              "</div>"
            ],
            "text/plain": [
              "  Embarked     Sex Embarked_Sex\n",
              "0        S    male       S_male\n",
              "1        C  female     C_female\n",
              "2        S  female     S_female\n",
              "3        S  female     S_female\n",
              "4        S    male       S_male"
            ]
          },
          "execution_count": 13,
          "metadata": {},
          "output_type": "execute_result"
        }
      ],
      "source": [
        "#Python’da zip(a, b) → iki listeyi elemanlarına göre eşleştirir:\n",
        "\n",
        "Embarked_sex = list(zip(df['Embarked'], df['Sex']))\n",
        "df['Embarked_Sex'] = pd.Series([f\"{p}_{s}\" for p, s in Embarked_sex])\n",
        "df[['Embarked', 'Sex', 'Embarked_Sex']].head()\n",
        "\n",
        "\n",
        "\n"
      ]
    },
    {
      "cell_type": "markdown",
      "metadata": {
        "id": "7yIW_uQqaVxI"
      },
      "source": [
        "**Soru 18**: `Embarked` sütunundaki eksik verileri mod ile doldurun."
      ]
    },
    {
      "cell_type": "code",
      "execution_count": 18,
      "metadata": {
        "id": "20LCYX5HRYUQ"
      },
      "outputs": [],
      "source": [
        "#burada mean() kullanamayız çünkü mean sadece numerik verilerin ortalamasını alır\n",
        "mod_embarked = df[\"Embarked\"].mode()\n",
        "df[\"mod_embarked\"] = df[\"Embarked\"].fillna(mod_embarked)"
      ]
    },
    {
      "cell_type": "markdown",
      "metadata": {
        "id": "0L1pHBVZaVxM"
      },
      "source": [
        "**Soru 19**: `Name` sütununda virgül (`,`) karakterini nokta (`.`) ile değiştirin (`str.replace`)."
      ]
    },
    {
      "cell_type": "code",
      "execution_count": 11,
      "metadata": {
        "id": "yGxWOgRqRZS3"
      },
      "outputs": [
        {
          "data": {
            "text/html": [
              "<div>\n",
              "<style scoped>\n",
              "    .dataframe tbody tr th:only-of-type {\n",
              "        vertical-align: middle;\n",
              "    }\n",
              "\n",
              "    .dataframe tbody tr th {\n",
              "        vertical-align: top;\n",
              "    }\n",
              "\n",
              "    .dataframe thead th {\n",
              "        text-align: right;\n",
              "    }\n",
              "</style>\n",
              "<table border=\"1\" class=\"dataframe\">\n",
              "  <thead>\n",
              "    <tr style=\"text-align: right;\">\n",
              "      <th></th>\n",
              "      <th>Name</th>\n",
              "    </tr>\n",
              "  </thead>\n",
              "  <tbody>\n",
              "    <tr>\n",
              "      <th>0</th>\n",
              "      <td>Braund. Mr. Owen Harris</td>\n",
              "    </tr>\n",
              "    <tr>\n",
              "      <th>1</th>\n",
              "      <td>Cumings. Mrs. John Bradley (Florence Briggs Th...</td>\n",
              "    </tr>\n",
              "    <tr>\n",
              "      <th>2</th>\n",
              "      <td>Heikkinen. Miss. Laina</td>\n",
              "    </tr>\n",
              "    <tr>\n",
              "      <th>3</th>\n",
              "      <td>Futrelle. Mrs. Jacques Heath (Lily May Peel)</td>\n",
              "    </tr>\n",
              "    <tr>\n",
              "      <th>4</th>\n",
              "      <td>Allen. Mr. William Henry</td>\n",
              "    </tr>\n",
              "  </tbody>\n",
              "</table>\n",
              "</div>"
            ],
            "text/plain": [
              "                                                Name\n",
              "0                            Braund. Mr. Owen Harris\n",
              "1  Cumings. Mrs. John Bradley (Florence Briggs Th...\n",
              "2                             Heikkinen. Miss. Laina\n",
              "3       Futrelle. Mrs. Jacques Heath (Lily May Peel)\n",
              "4                           Allen. Mr. William Henry"
            ]
          },
          "execution_count": 11,
          "metadata": {},
          "output_type": "execute_result"
        }
      ],
      "source": [
        "df[\"Name\"] = df[\"Name\"].str.replace(\",\", \".\")\n",
        "df[['Name']].head()"
      ]
    },
    {
      "cell_type": "markdown",
      "metadata": {
        "id": "y5L3epluaVxM"
      },
      "source": [
        "**Soru 20**: `Fare` sütununda negatif veya sıfır değerleri kontrol edin ve bunları medyan ile değiştirin."
      ]
    },
    {
      "cell_type": "code",
      "execution_count": 10,
      "metadata": {
        "id": "s5joZdI4Rao3"
      },
      "outputs": [
        {
          "name": "stdout",
          "output_type": "stream",
          "text": [
            "0\n"
          ]
        }
      ],
      "source": [
        "fare_median = df[\"Fare\"].median()\n",
        "df.loc[df[\"Fare\"] <= 0, \"Fare\"] = fare_median\n",
        "print((df[\"Fare\"] <= 0).sum())\n",
        "\n"
      ]
    },
    {
      "cell_type": "markdown",
      "metadata": {
        "id": "6aH3DgiRaVxM"
      },
      "source": [
        "## İleri Düzey Sorular"
      ]
    },
    {
      "cell_type": "markdown",
      "metadata": {
        "id": "2YVkpL2PaVxM"
      },
      "source": [
        "**Soru 21**: `Age` sütunundaki eksik verileri, `Pclass` ve `Sex` kombinasyonlarına göre medyan ile doldurun."
      ]
    },
    {
      "cell_type": "code",
      "execution_count": null,
      "metadata": {},
      "outputs": [
        {
          "name": "stdout",
          "output_type": "stream",
          "text": [
            "Eksik Age sayısı: 0\n"
          ]
        }
      ],
      "source": [
        "df['Age'] = df.groupby(['Pclass', 'Sex'])['Age'].transform(lambda x: x.fillna(x.median()))\n",
        "print(\"Eksik Age sayısı:\", df['Age'].isnull().sum())\n",
        "#Lambda, Python'da anonim fonksiyonlar oluşturmak için kullanılan bir yapıdır. tek satırlık kodlar için ideal"
      ]
    },
    {
      "cell_type": "markdown",
      "metadata": {
        "id": "1bwRL8woaVxM"
      },
      "source": [
        "**Soru 22**: `Fare` sütunundaki aykırı değerleri IQR yöntemiyle tespit edin ve bunları Q1 - 1.5*IQR ve Q3 + 1.5*IQR sınırlarıyla sınırlandırın (`clip`)."
      ]
    },
    {
      "cell_type": "code",
      "execution_count": 25,
      "metadata": {
        "id": "Xwsv4WmYRdQL"
      },
      "outputs": [
        {
          "name": "stdout",
          "output_type": "stream",
          "text": [
            "Orijinal Fare İstatistikleri:\n",
            "count    891.000000\n",
            "mean      32.447545\n",
            "std       49.570235\n",
            "min        4.012500\n",
            "25%        7.925000\n",
            "50%       14.454200\n",
            "75%       31.000000\n",
            "max      512.329200\n",
            "Name: Fare, dtype: float64\n",
            "\n",
            " Sınırlandırılmış Fare İstatistikleri:\n",
            "count    891.000000\n",
            "mean      24.287299\n",
            "std       20.273302\n",
            "min        4.012500\n",
            "25%        7.925000\n",
            "50%       14.454200\n",
            "75%       31.000000\n",
            "max       65.612500\n",
            "Name: Fare_clipped, dtype: float64\n",
            "\n",
            " Aykırı değer sayısı: 116\n"
          ]
        }
      ],
      "source": [
        "Q1 = df['Fare'].quantile(0.25)\n",
        "Q3 = df['Fare'].quantile(0.75)\n",
        "IQR = Q3 - Q1\n",
        "#alt ve üst sınırları belirleyelim\n",
        "lower_bound = Q1 - 1.5 * IQR\n",
        "upper_bound = Q3 + 1.5 * IQR\n",
        "# fare sütunundaki değerleri sınırlandıralım\n",
        "df['Fare_clipped'] = df['Fare'].clip(lower=lower_bound, upper=upper_bound)\n",
        "print(\"Orijinal Fare İstatistikleri:\")\n",
        "print(df['Fare'].describe())\n",
        "print(\"\\n Sınırlandırılmış Fare İstatistikleri:\")\n",
        "print(df['Fare_clipped'].describe())\n",
        "aykiri  = df[df['Fare'] != df['Fare_clipped']].shape[0]\n",
        "print(f\"\\n Aykırı değer sayısı: {aykiri}\")"
      ]
    },
    {
      "cell_type": "markdown",
      "metadata": {
        "id": "t2e3nxP1aVxM"
      },
      "source": [
        "**Soru 23**: `Embarked` sütununu hedef (`Survived`) bazlı kodlayın (target encoding) ve yeni bir sütun (`Embarked_target`) oluşturun."
      ]
    },
    {
      "cell_type": "code",
      "execution_count": 30,
      "metadata": {
        "id": "YCNpLq4iRg6x"
      },
      "outputs": [
        {
          "name": "stdout",
          "output_type": "stream",
          "text": [
            "Embarked kategorileri ve Survived ortalamaları:\n",
            "Embarked\n",
            "C    0.553571\n",
            "Q    0.389610\n",
            "S    0.339009\n",
            "Name: Survived, dtype: float64\n",
            "İlk birkaç satır: \n",
            "  Embarked  Embarked_target  Survived\n",
            "0        S         0.339009         0\n",
            "1        C         0.553571         1\n",
            "2        S         0.339009         1\n",
            "3        S         0.339009         1\n",
            "4        S         0.339009         0\n"
          ]
        }
      ],
      "source": [
        "#Embarked sütunundaki eksik verileri dolduruyoruz \n",
        "df['Embarked'] = df['Embarked'].fillna(df['Embarked'].mode()[0])\n",
        "# Target encoding: Her embarked kategorisi için survived ortalamasını hesaplıyoruz. \n",
        "target_means = df.groupby('Embarked')['Survived'].mean()\n",
        "df['Embarked_target'] = df['Embarked'].map(target_means)\n",
        "print(\"Embarked kategorileri ve Survived ortalamaları:\")\n",
        "print(target_means)\n",
        "print(\"İlk birkaç satır: \")\n",
        "print(df[['Embarked', 'Embarked_target', 'Survived']].head())"
      ]
    },
    {
      "cell_type": "markdown",
      "metadata": {
        "id": "jLShGp17aVxN"
      },
      "source": [
        "**Soru 24**: `Name` sütunundan unvanları (ör. Mr., Mrs., Miss.) çıkarın ve yeni bir sütun (`Title`) oluşturun (`str.extract` ile regex kullanın). Yeni oluşturulan Title sütunu yolcunun sadece unvanını içermeli."
      ]
    },
    {
      "cell_type": "code",
      "execution_count": 5,
      "metadata": {
        "id": "ZSMvGe8SReeR"
      },
      "outputs": [
        {
          "name": "stdout",
          "output_type": "stream",
          "text": [
            "                                                Name   Title\n",
            "0                            Braund, Mr. Owen Harris      Mr\n",
            "1  Cumings, Mrs. John Bradley (Florence Briggs Th...     Mrs\n",
            "2                             Heikkinen, Miss. Laina    Miss\n",
            "3       Futrelle, Mrs. Jacques Heath (Lily May Peel)     Mrs\n",
            "4                           Allen, Mr. William Henry      Mr\n",
            "5                                   Moran, Mr. James      Mr\n",
            "6                            McCarthy, Mr. Timothy J      Mr\n",
            "7                     Palsson, Master. Gosta Leonard  Master\n",
            "8  Johnson, Mrs. Oscar W (Elisabeth Vilhelmina Berg)     Mrs\n",
            "9                Nasser, Mrs. Nicholas (Adele Achem)     Mrs\n"
          ]
        }
      ],
      "source": [
        "df[\"Title\"] = df[\"Name\"].str.extract(r',\\s*([^\\.]+)\\.')\n",
        "print(df[[\"Name\", \"Title\"]].head(10))\n",
        "\n"
      ]
    },
    {
      "cell_type": "markdown",
      "metadata": {
        "id": "Vqv4sg98aVxN"
      },
      "source": [
        "**Soru 25**: `Age` sütununu üç gruba ayırın (çocuk: <18, yetişkin: 18-60, yaşlı: >60) ve `lambda` fonksiyonu kullanarak yeni bir sütun (`Age_Group`) oluşturun. Kodlama ile yapılabileceği gibi `cut`, `qcut` fonksiyonlarının araştırılması ve bu fonskyionlardan uygun olanın kullanılması istenmektedir."
      ]
    },
    {
      "cell_type": "code",
      "execution_count": 16,
      "metadata": {
        "id": "P0rrLi8TRiCT"
      },
      "outputs": [
        {
          "name": "stdout",
          "output_type": "stream",
          "text": [
            "     Age Age_Group\n",
            "0   22.0  Yetişkin\n",
            "1   38.0  Yetişkin\n",
            "2   26.0  Yetişkin\n",
            "3   35.0  Yetişkin\n",
            "4   35.0  Yetişkin\n",
            "5    NaN  Yetişkin\n",
            "6   54.0  Yetişkin\n",
            "7    2.0     Çocuk\n",
            "8   27.0  Yetişkin\n",
            "9   14.0     Çocuk\n",
            "10   4.0     Çocuk\n",
            "11  58.0  Yetişkin\n",
            "12  20.0  Yetişkin\n",
            "13  39.0  Yetişkin\n",
            "14  14.0     Çocuk\n"
          ]
        }
      ],
      "source": [
        "df[\"Age_Group\"] = df[\"Age\"].apply(lambda x: \n",
        "    \"Çocuk\" if x < 18 else\n",
        "    \"Yaşlı\" if x > 60 else\n",
        "    \"Yetişkin\"\n",
        ")\n",
        "print(df[[\"Age\", \"Age_Group\"]].head(15))\n",
        "#bins sınırları belirler labels gruplara isim verir\n"
      ]
    },
    {
      "cell_type": "markdown",
      "metadata": {
        "id": "W00bbZG0aVxN"
      },
      "source": [
        "**Soru 26**: `Ticket` sütununda yalnızca rakamlardan oluşan değerleri sayısala çevirin ve yeni bir sütun (`Ticket_numeric`) oluşturun (`to_numeric`, `errors='coerce'`)."
      ]
    },
    {
      "cell_type": "code",
      "execution_count": 17,
      "metadata": {
        "id": "ufskcDWFRjBY"
      },
      "outputs": [
        {
          "name": "stdout",
          "output_type": "stream",
          "text": [
            "             Ticket  Ticket_numeric\n",
            "0         A/5 21171             NaN\n",
            "1          PC 17599             NaN\n",
            "2  STON/O2. 3101282             NaN\n",
            "3            113803        113803.0\n",
            "4            373450        373450.0\n",
            "5            330877        330877.0\n",
            "6             17463         17463.0\n",
            "7            349909        349909.0\n",
            "8            347742        347742.0\n",
            "9            237736        237736.0\n"
          ]
        }
      ],
      "source": [
        "df[\"Ticket_numeric\"] = pd.to_numeric(df[\"Ticket\"].where(df[\"Ticket\"].str.isdigit()), errors='coerce')\n",
        "\n",
        "print(df[[\"Ticket\", \"Ticket_numeric\"]].head(10))"
      ]
    },
    {
      "cell_type": "markdown",
      "metadata": {
        "id": "XEbqjNLvaVxN"
      },
      "source": [
        "**Soru 27**: `Fare` sütununda aykırı değerleri Z-Score yöntemiyle (|Z| > 3) tespit edin ve bunları medyan ile değiştirin."
      ]
    },
    {
      "cell_type": "code",
      "execution_count": 19,
      "metadata": {
        "id": "VFCg7TT3RkIv"
      },
      "outputs": [
        {
          "name": "stdout",
          "output_type": "stream",
          "text": [
            "Değiştirilen aykırı değer sayısı: 20\n"
          ]
        }
      ],
      "source": [
        "from scipy.stats import zscore\n",
        "# Z-score hesapla\n",
        "z_scores = zscore(df[\"Fare\"], nan_policy='omit')\n",
        "\n",
        "# Aykırı değerleri belirle (|Z| > 3)\n",
        "outliers = np.abs(z_scores) > 3\n",
        "\n",
        "# Medyanı hesapla\n",
        "fare_median = df[\"Fare\"].median()\n",
        "\n",
        "# Aykırı değerleri medyan ile değiştir\n",
        "df.loc[outliers, \"Fare\"] = fare_median\n",
        "\n",
        "# Kontrol edelim: Kaç aykırı vardı?\n",
        "print(\"Değiştirilen aykırı değer sayısı:\", outliers.sum())"
      ]
    },
    {
      "cell_type": "markdown",
      "metadata": {
        "id": "MBjB05V1aVxN"
      },
      "source": [
        "**Soru 28**: `Cabin` sütununda yalnızca ilk harfi alın (ör. 'C23' → 'C') ve yeni bir sütun (`Cabin_letter`) oluşturun (`str[0]`)."
      ]
    },
    {
      "cell_type": "code",
      "execution_count": 23,
      "metadata": {
        "id": "UmBTJ0lGRljx"
      },
      "outputs": [
        {
          "name": "stdout",
          "output_type": "stream",
          "text": [
            "          Cabin Cabin_letter\n",
            "1           C85            C\n",
            "3          C123            C\n",
            "6           E46            E\n",
            "10           G6            G\n",
            "11         C103            C\n",
            "21          D56            D\n",
            "23           A6            A\n",
            "27  C23 C25 C27            C\n",
            "31          B78            B\n",
            "52          D33            D\n"
          ]
        }
      ],
      "source": [
        "# Cabin sütununda boş olmayanlardan ilk harfi al, NaN olanları at\n",
        "df[\"Cabin_letter\"] = df[\"Cabin\"].dropna().str[0]\n",
        "\n",
        "print(df[[\"Cabin\", \"Cabin_letter\"]].dropna().head(10))"
      ]
    },
    {
      "cell_type": "markdown",
      "metadata": {
        "id": "DcZrD3KcaVxN"
      },
      "source": [
        "**Soru 29**: `Embarked` sütununu frekans bazlı kodlayın (her kategorinin frekansını kullanın) ve yeni bir sütun (`Embarked_freq`) oluşturun."
      ]
    },
    {
      "cell_type": "code",
      "execution_count": 25,
      "metadata": {
        "id": "_hWMeZ4ERmnB"
      },
      "outputs": [
        {
          "name": "stdout",
          "output_type": "stream",
          "text": [
            "  Embarked  Embarked_freq\n",
            "0        S          644.0\n",
            "1        C          168.0\n",
            "2        S          644.0\n",
            "3        S          644.0\n",
            "4        S          644.0\n",
            "5        Q           77.0\n",
            "6        S          644.0\n",
            "7        S          644.0\n",
            "8        S          644.0\n",
            "9        C          168.0\n"
          ]
        }
      ],
      "source": [
        "# Her 'Embarked' değeri için frekansları hesapla\n",
        "freq_map = df[\"Embarked\"].value_counts(normalize=False)\n",
        "\n",
        "# Frekansları her satıra karşılık gelecek şekilde eşleştir\n",
        "df[\"Embarked_freq\"] = df[\"Embarked\"].map(freq_map)\n",
        "\n",
        "print(df[[\"Embarked\", \"Embarked_freq\"]].head(10))"
      ]
    },
    {
      "cell_type": "markdown",
      "metadata": {
        "id": "tLxaP1oAaVxO"
      },
      "source": [
        "**Soru 30**: `Age` ve `Fare` sütunlarını kullanarak `map` fonksiyonu ile bir yaş-fiyat oranı (`Age_Fare_Ratio`) oluşturun (ör. `Age / Fare`)."
      ]
    },
    {
      "cell_type": "code",
      "execution_count": 29,
      "metadata": {
        "id": "Z12LUl2jRnxE"
      },
      "outputs": [
        {
          "name": "stdout",
          "output_type": "stream",
          "text": [
            "    Age     Fare  Age_Fare_Ratio\n",
            "0  22.0   7.2500        3.034483\n",
            "1  38.0  71.2833        0.533084\n",
            "2  26.0   7.9250        3.280757\n",
            "3  35.0  53.1000        0.659134\n",
            "4  35.0   8.0500        4.347826\n",
            "5   NaN   8.4583             NaN\n",
            "6  54.0  51.8625        1.041215\n",
            "7   2.0  21.0750        0.094899\n",
            "8  27.0  11.1333        2.425157\n",
            "9  14.0  30.0708        0.465568\n"
          ]
        }
      ],
      "source": [
        "\n",
        "df[\"Age_Fare_Ratio\"] = df[[\"Age\", \"Fare\"]].apply(\n",
        "    lambda x: x[\"Age\"] / x[\"Fare\"] if pd.notnull(x[\"Age\"]) and pd.notnull(x[\"Fare\"]) and x[\"Fare\"] != 0 else None, \n",
        "    axis=1\n",
        ")\n",
        "print(df[[\"Age\", \"Fare\", \"Age_Fare_Ratio\"]].head(10))"
      ]
    },
    {
      "cell_type": "markdown",
      "metadata": {
        "id": "DDfjNqd8aVxO"
      },
      "source": [
        "## Araştırma Soruları\n",
        "\n",
        "Aşağıdaki sorular, belirtilen konularda bahsedilmeyen ancak önemli olan yöntem ve fonksiyonları keşfetmek için tasarlanmıştır."
      ]
    },
    {
      "cell_type": "markdown",
      "metadata": {
        "id": "3BwEuYmBaVxO"
      },
      "source": [
        "**Araştırma Soru 1**: `sklearn.impute.IterativeImputer` fonksiyonunu araştırın ve `Age` sütunundaki eksik verileri doldurmak için nasıl kullanılabileceğini açıklayın."
      ]
    },
    {
      "cell_type": "code",
      "execution_count": 31,
      "metadata": {
        "id": "kbEZR0KzRtDx"
      },
      "outputs": [],
      "source": [
        "#IterativeImputer, eksik verileri diğer sütunlara bakarak tahmin ederek doldurur.\n",
        "\n",
        "from sklearn.experimental import enable_iterative_imputer\n",
        "from sklearn.impute import IterativeImputer\n",
        "imputer = IterativeImputer(random_state = 42 )\n",
        "df[[\"Age\"]] = imputer.fit_transform(df[[\"Age\"]])"
      ]
    },
    {
      "cell_type": "markdown",
      "metadata": {
        "id": "3y-jKIz0aVxO"
      },
      "source": [
        "**Araştırma Soru 2**: `sklearn.preprocessing.RobustScaler` fonksiyonunu araştırın ve `Fare` sütununu ölçeklendirmek için nasıl kullanılabileceğini açıklayın."
      ]
    },
    {
      "cell_type": "code",
      "execution_count": 33,
      "metadata": {
        "id": "nnca0gPqRuIB"
      },
      "outputs": [],
      "source": [
        "#RobustScaler, veriyi ölçeklendirirken medyan ve çeyreklik aralığı (IQR) kullanır.\n",
        "from sklearn.preprocessing import RobustScaler\n",
        "scaler = RobustScaler()\n",
        "df[\"Fare_scaled\"] = scaler.fit_transform(df[[\"Fare\"]])"
      ]
    },
    {
      "cell_type": "markdown",
      "metadata": {
        "id": "Gip6YItOaVxO"
      },
      "source": [
        "**Araştırma Soru 3**: `pandas.cut` fonksiyonunu araştırın ve `Age` sütununu eşit aralıklı yaş gruplarına ayırmak için nasıl kullanılabileceğini açıklayın."
      ]
    },
    {
      "cell_type": "code",
      "execution_count": 34,
      "metadata": {
        "id": "avj8D3sjRvYQ"
      },
      "outputs": [],
      "source": [
        "df[\"AgeGroup\"] = pd.cut(df[\"Age\"], bins=5, labels=[\"0-16\", \"17-32\", \"33-48\" , \"49-64\", \"65+\"])"
      ]
    },
    {
      "cell_type": "markdown",
      "metadata": {
        "id": "3EaubCmWaVxO"
      },
      "source": [
        "**Araştırma Soru 4**: `sklearn.preprocessing.OrdinalEncoder` fonksiyonunu araştırın ve `Embarked` sütununu sıralı bir şekilde kodlamak için nasıl kullanılabileceğini açıklayın."
      ]
    },
    {
      "cell_type": "code",
      "execution_count": 35,
      "metadata": {
        "id": "CQS3gTWORwbP"
      },
      "outputs": [],
      "source": [
        "from sklearn.preprocessing import OrdinalEncoder\n",
        "\n",
        "encoder = OrdinalEncoder()\n",
        "df[\"Embarked_encoded\"] = encoder.fit_transform(df[[\"Embarked\"]])"
      ]
    },
    {
      "cell_type": "markdown",
      "metadata": {
        "id": "PJQ0tAZBaVxO"
      },
      "source": [
        "**Araştırma Soru 5**: `numpy.log1p` fonksiyonunu araştırın ve `Fare` sütunundaki çarpıklığı azaltmak için nasıl kullanılabileceğini açıklayın."
      ]
    },
    {
      "cell_type": "code",
      "execution_count": 36,
      "metadata": {
        "id": "pdZN8IvKRxcR"
      },
      "outputs": [],
      "source": [
        "import numpy as np\n",
        "\n",
        "df[\"Fare_log\"] = np.log1p(df[\"Fare\"])"
      ]
    }
  ],
  "metadata": {
    "colab": {
      "provenance": []
    },
    "kernelspec": {
      "display_name": "Python 3",
      "language": "python",
      "name": "python3"
    },
    "language_info": {
      "codemirror_mode": {
        "name": "ipython",
        "version": 3
      },
      "file_extension": ".py",
      "mimetype": "text/x-python",
      "name": "python",
      "nbconvert_exporter": "python",
      "pygments_lexer": "ipython3",
      "version": "3.11.9"
    }
  },
  "nbformat": 4,
  "nbformat_minor": 0
}
