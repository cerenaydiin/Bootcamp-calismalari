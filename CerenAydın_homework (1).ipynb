{
 "cells": [
  {
   "cell_type": "markdown",
   "metadata": {
    "id": "35yBzkuRtqWA"
   },
   "source": [
    "# 🚢 Titanic Veri Seti Analizi Ödevi\n",
    "\n",
    "Bu ödevde Titanic veri seti üzerinde pandas kütüphanesi kullanarak veri analizi yapacaksınız. Sorular kolay seviyeden başlayarak zorlaşmaktadır.\n",
    "\n",
    "## 📋 Ödev Kuralları:\n",
    "- Her soruyu ayrı bir hücrede çözün\n",
    "- Kodlarınızı açıklayıcı yorumlarla destekleyin\n",
    "- Sonuçları yorumlayın\n",
    "- Grafik çizilebilecek yerlerde görselleştirme yapın\n",
    "\n",
    "## 📊 Veri Seti Hakkında:\n",
    "Titanic veri seti, 1912'de batan Titanic gemisindeki yolcular hakkında bilgi içerir.\n",
    "\n",
    "**Sütun Açıklamaları:**\n",
    "- `survived`: Hayatta kalma durumu (0 = Hayır, 1 = Evet)\n",
    "- `pclass`: Yolcu sınıfı (1 = 1. sınıf, 2 = 2. sınıf, 3 = 3. sınıf)\n",
    "- `sex`: Cinsiyet\n",
    "- `age`: Yaş\n",
    "- `sibsp`: Gemide bulunan kardeş/eş sayısı\n",
    "- `parch`: Gemide bulunan ebeveyn/çocuk sayısı\n",
    "- `ticket`: Bilet numarası\n",
    "- `fare`: Bilet ücreti\n",
    "- `cabin`: Kabin numarası\n",
    "- `embarked`: Bindiği liman (C = Cherbourg, Q = Queenstown, S = Southampton)"
   ]
  },
  {
   "cell_type": "markdown",
   "metadata": {
    "id": "h4Fr9N9dtqWF"
   },
   "source": [
    "---\n",
    "# ✅ TEMEL SEVİYE SORULAR (KOLAY)\n",
    "---"
   ]
  },
  {
   "cell_type": "code",
   "execution_count": 12,
   "metadata": {
    "id": "MvaNT3oJXlC-"
   },
   "outputs": [],
   "source": [
    "import pandas as pd\n",
    "\n",
    "df = pd.read_csv(\"https://raw.githubusercontent.com/datasciencedojo/datasets/master/titanic.csv\")"
   ]
  },
  {
   "cell_type": "markdown",
   "metadata": {
    "id": "Xk0QLfvhtqWF"
   },
   "source": [
    "### Soru 1: Veri setinde kaç satır ve kaç sütun olduğunu bulun."
   ]
  },
  {
   "cell_type": "code",
   "execution_count": 53,
   "metadata": {
    "id": "062RrTBGtqWG"
   },
   "outputs": [
    {
     "data": {
      "text/plain": [
       "(891, 12)"
      ]
     },
     "execution_count": 53,
     "metadata": {},
     "output_type": "execute_result"
    }
   ],
   "source": [
    "import pandas as pd \n",
    "df.shape"
   ]
  },
  {
   "cell_type": "markdown",
   "metadata": {
    "id": "I2AojOdztqWH"
   },
   "source": [
    "### Soru 2: Tüm sütun isimlerini yazdırın."
   ]
  },
  {
   "cell_type": "code",
   "execution_count": 14,
   "metadata": {
    "id": "erY2kkBGtqWH"
   },
   "outputs": [
    {
     "data": {
      "text/plain": [
       "Index(['PassengerId', 'Survived', 'Pclass', 'Name', 'Sex', 'Age', 'SibSp',\n",
       "       'Parch', 'Ticket', 'Fare', 'Cabin', 'Embarked'],\n",
       "      dtype='object')"
      ]
     },
     "execution_count": 14,
     "metadata": {},
     "output_type": "execute_result"
    }
   ],
   "source": [
    "df.columns"
   ]
  },
  {
   "cell_type": "markdown",
   "metadata": {
    "id": "vc-FJeG3tqWI"
   },
   "source": [
    "### Soru 3: Yaş ortalamasını ve medyanını hesaplayın."
   ]
  },
  {
   "cell_type": "code",
   "execution_count": 15,
   "metadata": {
    "id": "97xKbrPBtqWI"
   },
   "outputs": [
    {
     "name": "stdout",
     "output_type": "stream",
     "text": [
      "0      22.0\n",
      "1      38.0\n",
      "2      26.0\n",
      "3      35.0\n",
      "4      35.0\n",
      "       ... \n",
      "886    27.0\n",
      "887    19.0\n",
      "888     NaN\n",
      "889    26.0\n",
      "890    32.0\n",
      "Name: Age, Length: 891, dtype: float64\n",
      "Yaş Ortalaması :  29.69911764705882\n",
      "Yaş Medyanı =  28.0\n"
     ]
    }
   ],
   "source": [
    "print(df[\"Age\"])\n",
    "ortalama = df[\"Age\"].mean()\n",
    "medyan = df[\"Age\"].median()\n",
    "print(\"Yaş Ortalaması : \" , ortalama)\n",
    "print(\"Yaş Medyanı = \" , medyan)"
   ]
  },
  {
   "cell_type": "markdown",
   "metadata": {
    "id": "y06IIbv7tqWJ"
   },
   "source": [
    "### Soru 4: Cinsiyet değişkenindeki eşsiz değerleri yazdırın."
   ]
  },
  {
   "cell_type": "code",
   "execution_count": 16,
   "metadata": {
    "id": "T_XyXtF5tqWJ"
   },
   "outputs": [
    {
     "name": "stdout",
     "output_type": "stream",
     "text": [
      "Kategorik Veriler :                             Name   Sex  Ticket    Cabin Embarked\n",
      "count                       891   891     891      204      889\n",
      "unique                      891     2     681      147        3\n",
      "top     Braund, Mr. Owen Harris  male  347082  B96 B98        S\n",
      "freq                          1   577       7        4      644\n",
      "['male' 'female']\n"
     ]
    }
   ],
   "source": [
    "Kategorik = df.describe(include=\"object\")\n",
    "print(\"Kategorik Veriler : \" ,Kategorik )\n",
    "print(df[\"Sex\"].unique())"
   ]
  },
  {
   "cell_type": "markdown",
   "metadata": {
    "id": "7QgdBU6vtqWJ"
   },
   "source": [
    "### Soru 5: `pclass` değişkenindeki değerlerin yüzdesel dağılımını yazdırın."
   ]
  },
  {
   "cell_type": "code",
   "execution_count": 24,
   "metadata": {
    "id": "Eqh6pJ0KtqWK"
   },
   "outputs": [
    {
     "data": {
      "text/plain": [
       "Pclass\n",
       "3    55.106622\n",
       "1    24.242424\n",
       "2    20.650954\n",
       "Name: proportion, dtype: float64"
      ]
     },
     "execution_count": 24,
     "metadata": {},
     "output_type": "execute_result"
    }
   ],
   "source": [
    "df[\"Pclass\"].value_counts(normalize=True) *100"
   ]
  },
  {
   "cell_type": "markdown",
   "metadata": {
    "id": "XcdTwueutqWK"
   },
   "source": [
    "### Soru 6: Yaşı 30'dan büyük kadın yolcuları listeleyin."
   ]
  },
  {
   "cell_type": "code",
   "execution_count": 38,
   "metadata": {
    "id": "xwyppQI0tqWK"
   },
   "outputs": [
    {
     "name": "stdout",
     "output_type": "stream",
     "text": [
      "     PassengerId  Survived  Pclass  \\\n",
      "1              2         1       1   \n",
      "3              4         1       1   \n",
      "11            12         1       1   \n",
      "15            16         1       2   \n",
      "18            19         0       3   \n",
      "..           ...       ...     ...   \n",
      "862          863         1       1   \n",
      "865          866         1       2   \n",
      "871          872         1       1   \n",
      "879          880         1       1   \n",
      "885          886         0       3   \n",
      "\n",
      "                                                  Name     Sex   Age  SibSp  \\\n",
      "1    Cumings, Mrs. John Bradley (Florence Briggs Th...  female  38.0      1   \n",
      "3         Futrelle, Mrs. Jacques Heath (Lily May Peel)  female  35.0      1   \n",
      "11                            Bonnell, Miss. Elizabeth  female  58.0      0   \n",
      "15                    Hewlett, Mrs. (Mary D Kingcome)   female  55.0      0   \n",
      "18   Vander Planke, Mrs. Julius (Emelia Maria Vande...  female  31.0      1   \n",
      "..                                                 ...     ...   ...    ...   \n",
      "862  Swift, Mrs. Frederick Joel (Margaret Welles Ba...  female  48.0      0   \n",
      "865                           Bystrom, Mrs. (Karolina)  female  42.0      0   \n",
      "871   Beckwith, Mrs. Richard Leonard (Sallie Monypeny)  female  47.0      1   \n",
      "879      Potter, Mrs. Thomas Jr (Lily Alexenia Wilson)  female  56.0      0   \n",
      "885               Rice, Mrs. William (Margaret Norton)  female  39.0      0   \n",
      "\n",
      "     Parch    Ticket     Fare Cabin Embarked  \n",
      "1        0  PC 17599  71.2833   C85        C  \n",
      "3        0    113803  53.1000  C123        S  \n",
      "11       0    113783  26.5500  C103        S  \n",
      "15       0    248706  16.0000   NaN        S  \n",
      "18       0    345763  18.0000   NaN        S  \n",
      "..     ...       ...      ...   ...      ...  \n",
      "862      0     17466  25.9292   D17        S  \n",
      "865      0    236852  13.0000   NaN        S  \n",
      "871      1     11751  52.5542   D35        S  \n",
      "879      1     11767  83.1583   C50        C  \n",
      "885      5    382652  29.1250   NaN        Q  \n",
      "\n",
      "[103 rows x 12 columns]\n"
     ]
    }
   ],
   "source": [
    "print(df[(df[\"Age\"]>30) & (df[\"Sex\"] == \"female\")])"
   ]
  },
  {
   "cell_type": "markdown",
   "metadata": {
    "id": "UsUhqI3ztqWK"
   },
   "source": [
    "### Soru 7: Yaşı 18'den küçük olup 1. sınıfta yolculuk eden yolcuları listeleyin."
   ]
  },
  {
   "cell_type": "code",
   "execution_count": 90,
   "metadata": {
    "id": "_W36XLqytqWL"
   },
   "outputs": [
    {
     "name": "stdout",
     "output_type": "stream",
     "text": [
      "     PassengerId  Survived  Pclass  \\\n",
      "297          298         0       1   \n",
      "305          306         1       1   \n",
      "307          308         1       1   \n",
      "329          330         1       1   \n",
      "435          436         1       1   \n",
      "445          446         1       1   \n",
      "504          505         1       1   \n",
      "550          551         1       1   \n",
      "689          690         1       1   \n",
      "781          782         1       1   \n",
      "802          803         1       1   \n",
      "853          854         1       1   \n",
      "\n",
      "                                                  Name     Sex    Age  SibSp  \\\n",
      "297                       Allison, Miss. Helen Loraine  female   2.00      1   \n",
      "305                     Allison, Master. Hudson Trevor    male   0.92      1   \n",
      "307  Penasco y Castellana, Mrs. Victor de Satode (M...  female  17.00      1   \n",
      "329                       Hippach, Miss. Jean Gertrude  female  16.00      0   \n",
      "435                          Carter, Miss. Lucile Polk  female  14.00      1   \n",
      "445                          Dodge, Master. Washington    male   4.00      0   \n",
      "504                              Maioni, Miss. Roberta  female  16.00      0   \n",
      "550                        Thayer, Mr. John Borland Jr    male  17.00      0   \n",
      "689                  Madill, Miss. Georgette Alexandra  female  15.00      0   \n",
      "781          Dick, Mrs. Albert Adrian (Vera Gillespie)  female  17.00      1   \n",
      "802                Carter, Master. William Thornton II    male  11.00      1   \n",
      "853                          Lines, Miss. Mary Conover  female  16.00      0   \n",
      "\n",
      "     Parch    Ticket      Fare    Cabin Embarked  \n",
      "297      2    113781  151.5500  C22 C26        S  \n",
      "305      2    113781  151.5500  C22 C26        S  \n",
      "307      0  PC 17758  108.9000      C65        C  \n",
      "329      1    111361   57.9792      B18        C  \n",
      "435      2    113760  120.0000  B96 B98        S  \n",
      "445      2     33638   81.8583      A34        S  \n",
      "504      0    110152   86.5000      B79        S  \n",
      "550      2     17421  110.8833      C70        C  \n",
      "689      1     24160  211.3375       B5        S  \n",
      "781      0     17474   57.0000      B20        S  \n",
      "802      2    113760  120.0000  B96 B98        S  \n",
      "853      1  PC 17592   39.4000      D28        S  \n"
     ]
    }
   ],
   "source": [
    "print(df[(df[\"Age\"] < 18) & (df[\"Pclass\"].isin([1]))])"
   ]
  },
  {
   "cell_type": "markdown",
   "metadata": {
    "id": "jR2Dflo_tqWL"
   },
   "source": [
    "### Soru 8: İlk 10 gözlemden son 3'ünü gösterin."
   ]
  },
  {
   "cell_type": "code",
   "execution_count": 42,
   "metadata": {
    "id": "UOjvhETCtqWL"
   },
   "outputs": [
    {
     "data": {
      "text/html": [
       "<div>\n",
       "<style scoped>\n",
       "    .dataframe tbody tr th:only-of-type {\n",
       "        vertical-align: middle;\n",
       "    }\n",
       "\n",
       "    .dataframe tbody tr th {\n",
       "        vertical-align: top;\n",
       "    }\n",
       "\n",
       "    .dataframe thead th {\n",
       "        text-align: right;\n",
       "    }\n",
       "</style>\n",
       "<table border=\"1\" class=\"dataframe\">\n",
       "  <thead>\n",
       "    <tr style=\"text-align: right;\">\n",
       "      <th></th>\n",
       "      <th>PassengerId</th>\n",
       "      <th>Survived</th>\n",
       "      <th>Pclass</th>\n",
       "      <th>Name</th>\n",
       "      <th>Sex</th>\n",
       "      <th>Age</th>\n",
       "      <th>SibSp</th>\n",
       "      <th>Parch</th>\n",
       "      <th>Ticket</th>\n",
       "      <th>Fare</th>\n",
       "      <th>Cabin</th>\n",
       "      <th>Embarked</th>\n",
       "    </tr>\n",
       "  </thead>\n",
       "  <tbody>\n",
       "    <tr>\n",
       "      <th>7</th>\n",
       "      <td>8</td>\n",
       "      <td>0</td>\n",
       "      <td>3</td>\n",
       "      <td>Palsson, Master. Gosta Leonard</td>\n",
       "      <td>male</td>\n",
       "      <td>2.0</td>\n",
       "      <td>3</td>\n",
       "      <td>1</td>\n",
       "      <td>349909</td>\n",
       "      <td>21.0750</td>\n",
       "      <td>NaN</td>\n",
       "      <td>S</td>\n",
       "    </tr>\n",
       "    <tr>\n",
       "      <th>8</th>\n",
       "      <td>9</td>\n",
       "      <td>1</td>\n",
       "      <td>3</td>\n",
       "      <td>Johnson, Mrs. Oscar W (Elisabeth Vilhelmina Berg)</td>\n",
       "      <td>female</td>\n",
       "      <td>27.0</td>\n",
       "      <td>0</td>\n",
       "      <td>2</td>\n",
       "      <td>347742</td>\n",
       "      <td>11.1333</td>\n",
       "      <td>NaN</td>\n",
       "      <td>S</td>\n",
       "    </tr>\n",
       "    <tr>\n",
       "      <th>9</th>\n",
       "      <td>10</td>\n",
       "      <td>1</td>\n",
       "      <td>2</td>\n",
       "      <td>Nasser, Mrs. Nicholas (Adele Achem)</td>\n",
       "      <td>female</td>\n",
       "      <td>14.0</td>\n",
       "      <td>1</td>\n",
       "      <td>0</td>\n",
       "      <td>237736</td>\n",
       "      <td>30.0708</td>\n",
       "      <td>NaN</td>\n",
       "      <td>C</td>\n",
       "    </tr>\n",
       "  </tbody>\n",
       "</table>\n",
       "</div>"
      ],
      "text/plain": [
       "   PassengerId  Survived  Pclass  \\\n",
       "7            8         0       3   \n",
       "8            9         1       3   \n",
       "9           10         1       2   \n",
       "\n",
       "                                                Name     Sex   Age  SibSp  \\\n",
       "7                     Palsson, Master. Gosta Leonard    male   2.0      3   \n",
       "8  Johnson, Mrs. Oscar W (Elisabeth Vilhelmina Berg)  female  27.0      0   \n",
       "9                Nasser, Mrs. Nicholas (Adele Achem)  female  14.0      1   \n",
       "\n",
       "   Parch  Ticket     Fare Cabin Embarked  \n",
       "7      1  349909  21.0750   NaN        S  \n",
       "8      2  347742  11.1333   NaN        S  \n",
       "9      0  237736  30.0708   NaN        C  "
      ]
     },
     "execution_count": 42,
     "metadata": {},
     "output_type": "execute_result"
    }
   ],
   "source": [
    "df.head(10).tail(3)"
   ]
  },
  {
   "cell_type": "markdown",
   "metadata": {
    "id": "bBBg86aJtqWM"
   },
   "source": [
    "### Soru 9: Bilet fiyatı (fare) 100'den büyük olan kaç kişi vardır?"
   ]
  },
  {
   "cell_type": "code",
   "execution_count": 53,
   "metadata": {
    "id": "guuhp5SQtqWM"
   },
   "outputs": [
    {
     "data": {
      "text/plain": [
       "Fare\n",
       "False    838\n",
       "True      53\n",
       "Name: count, dtype: int64"
      ]
     },
     "execution_count": 53,
     "metadata": {},
     "output_type": "execute_result"
    }
   ],
   "source": [
    "(df['Fare'] >100).value_counts()"
   ]
  },
  {
   "cell_type": "markdown",
   "metadata": {
    "id": "3ju2uP2MtqWM"
   },
   "source": [
    "### Soru 10: `sex`, `age` ve `fare` sütunlarından oluşan yeni bir DataFrame oluşturun."
   ]
  },
  {
   "cell_type": "code",
   "execution_count": 58,
   "metadata": {
    "id": "5tHYqe4BtqWM"
   },
   "outputs": [
    {
     "name": "stdout",
     "output_type": "stream",
     "text": [
      "Yeni DataFrame :          Sex   Age     Fare\n",
      "0      male  22.0   7.2500\n",
      "1    female  38.0  71.2833\n",
      "2    female  26.0   7.9250\n",
      "3    female  35.0  53.1000\n",
      "4      male  35.0   8.0500\n",
      "..      ...   ...      ...\n",
      "886    male  27.0  13.0000\n",
      "887  female  19.0  30.0000\n",
      "888  female   NaN  23.4500\n",
      "889    male  26.0  30.0000\n",
      "890    male  32.0   7.7500\n",
      "\n",
      "[891 rows x 3 columns]\n"
     ]
    }
   ],
   "source": [
    "df_new = df[[\"Sex\" , \"Age\", \"Fare\"]]\n",
    "print(\"Yeni DataFrame : \" , df_new)"
   ]
  },
  {
   "cell_type": "markdown",
   "metadata": {
    "id": "C84LyQR0tqWN"
   },
   "source": [
    "---\n",
    "# ⚙️ ORTA SEVİYE SORULAR\n",
    "---"
   ]
  },
  {
   "cell_type": "markdown",
   "metadata": {
    "id": "k0VUD7eLtqWN"
   },
   "source": [
    "### Soru 1: Cinsiyete göre yaş ortalamasını bulun."
   ]
  },
  {
   "cell_type": "code",
   "execution_count": 61,
   "metadata": {
    "id": "JhxTvrpQtqWN"
   },
   "outputs": [
    {
     "data": {
      "text/plain": [
       "Sex\n",
       "female    27.915709\n",
       "male      30.726645\n",
       "Name: Age, dtype: float64"
      ]
     },
     "execution_count": 61,
     "metadata": {},
     "output_type": "execute_result"
    }
   ],
   "source": [
    "df.groupby('Sex')['Age'].mean()"
   ]
  },
  {
   "cell_type": "markdown",
   "metadata": {
    "id": "23Hqz2oLtqWN"
   },
   "source": [
    "### Soru 2: Sınıfa göre hayatta kalan kişi sayısını bulun."
   ]
  },
  {
   "cell_type": "code",
   "execution_count": 65,
   "metadata": {
    "id": "iDi7lTNmtqWN"
   },
   "outputs": [
    {
     "data": {
      "text/plain": [
       "Pclass\n",
       "1    0.629630\n",
       "2    0.472826\n",
       "3    0.242363\n",
       "Name: Survived, dtype: float64"
      ]
     },
     "execution_count": 65,
     "metadata": {},
     "output_type": "execute_result"
    }
   ],
   "source": [
    "df.groupby('Pclass')['Survived'].mean()"
   ]
  },
  {
   "cell_type": "markdown",
   "metadata": {
    "id": "9mukgiBQtqWN"
   },
   "source": [
    "### Soru 3: Hem cinsiyet hem sınıfa göre hayatta kalma oranlarını hesaplayın."
   ]
  },
  {
   "cell_type": "code",
   "execution_count": 74,
   "metadata": {
    "id": "WR_bF7uutqWN"
   },
   "outputs": [
    {
     "data": {
      "text/plain": [
       "Sex     Pclass\n",
       "female  1         0.968085\n",
       "        2         0.921053\n",
       "        3         0.500000\n",
       "male    1         0.368852\n",
       "        2         0.157407\n",
       "        3         0.135447\n",
       "Name: Survived, dtype: float64"
      ]
     },
     "execution_count": 74,
     "metadata": {},
     "output_type": "execute_result"
    }
   ],
   "source": [
    "df.groupby([\"Sex\" , \"Pclass\"])[\"Survived\"].mean()"
   ]
  },
  {
   "cell_type": "markdown",
   "metadata": {
    "id": "CDi-M0GRtqWO"
   },
   "source": [
    "### Soru 4: Embarked değişkenine göre ortalama yaş ve ortalama ücret nedir?"
   ]
  },
  {
   "cell_type": "code",
   "execution_count": 85,
   "metadata": {
    "id": "SWaNtUOItqWO"
   },
   "outputs": [
    {
     "data": {
      "text/html": [
       "<div>\n",
       "<style scoped>\n",
       "    .dataframe tbody tr th:only-of-type {\n",
       "        vertical-align: middle;\n",
       "    }\n",
       "\n",
       "    .dataframe tbody tr th {\n",
       "        vertical-align: top;\n",
       "    }\n",
       "\n",
       "    .dataframe thead th {\n",
       "        text-align: right;\n",
       "    }\n",
       "</style>\n",
       "<table border=\"1\" class=\"dataframe\">\n",
       "  <thead>\n",
       "    <tr style=\"text-align: right;\">\n",
       "      <th></th>\n",
       "      <th>Age</th>\n",
       "      <th>Fare</th>\n",
       "    </tr>\n",
       "    <tr>\n",
       "      <th>Embarked</th>\n",
       "      <th></th>\n",
       "      <th></th>\n",
       "    </tr>\n",
       "  </thead>\n",
       "  <tbody>\n",
       "    <tr>\n",
       "      <th>C</th>\n",
       "      <td>30.814769</td>\n",
       "      <td>59.954144</td>\n",
       "    </tr>\n",
       "    <tr>\n",
       "      <th>Q</th>\n",
       "      <td>28.089286</td>\n",
       "      <td>13.276030</td>\n",
       "    </tr>\n",
       "    <tr>\n",
       "      <th>S</th>\n",
       "      <td>29.445397</td>\n",
       "      <td>27.079812</td>\n",
       "    </tr>\n",
       "  </tbody>\n",
       "</table>\n",
       "</div>"
      ],
      "text/plain": [
       "                Age       Fare\n",
       "Embarked                      \n",
       "C         30.814769  59.954144\n",
       "Q         28.089286  13.276030\n",
       "S         29.445397  27.079812"
      ]
     },
     "execution_count": 85,
     "metadata": {},
     "output_type": "execute_result"
    }
   ],
   "source": [
    "df.groupby(\"Embarked\")[[\"Age\" , \"Fare\"]].mean()"
   ]
  },
  {
   "cell_type": "markdown",
   "metadata": {
    "id": "g0zVnY6MtqWO"
   },
   "source": [
    "### Soru 5: Pclass gruplarına göre yaşın standart sapmasını bulun."
   ]
  },
  {
   "cell_type": "code",
   "execution_count": 86,
   "metadata": {
    "id": "jo2RcVW5tqWO"
   },
   "outputs": [
    {
     "data": {
      "text/plain": [
       "Pclass\n",
       "1    14.802856\n",
       "2    14.001077\n",
       "3    12.495398\n",
       "Name: Age, dtype: float64"
      ]
     },
     "execution_count": 86,
     "metadata": {},
     "output_type": "execute_result"
    }
   ],
   "source": [
    "df.groupby(\"Pclass\")[\"Age\"].std()"
   ]
  },
  {
   "cell_type": "markdown",
   "metadata": {
    "id": "MTZYd9LJtqWO"
   },
   "source": [
    "### Soru 6: Her `Embarked` limanından kaç yolcu olduğunu ve bunların yüzdelik dağılımını yazdırın."
   ]
  },
  {
   "cell_type": "code",
   "execution_count": 88,
   "metadata": {
    "id": "YTfxT0j1tqWO"
   },
   "outputs": [
    {
     "data": {
      "text/plain": [
       "Embarked  PassengerId  Survived  Pclass  Name                                                 Sex     Age   SibSp  Parch  Ticket    Fare     Cabin      \n",
       "C         2            1         1       Cumings, Mrs. John Bradley (Florence Briggs Thayer)  female  38.0  1      0      PC 17599  71.2833  C85            1.538462\n",
       "          53           1         1       Harper, Mrs. Henry Sleeper (Myna Haxtun)             female  49.0  1      0      PC 17572  76.7292  D33            1.538462\n",
       "          55           0         1       Ostby, Mr. Engelhart Cornelius                       male    65.0  0      1      113509    61.9792  B30            1.538462\n",
       "          97           0         1       Goldschmidt, Mr. George B                            male    71.0  0      0      PC 17754  34.6542  A5             1.538462\n",
       "          98           1         1       Greenfield, Mr. William Bertram                      male    23.0  0      1      PC 17759  63.3583  D10 D12        1.538462\n",
       "                                                                                                                                                              ...   \n",
       "S         863          1         1       Swift, Mrs. Frederick Joel (Margaret Welles Barron)  female  48.0  0      0      17466     25.9292  D17            0.862069\n",
       "          868          0         1       Roebling, Mr. Washington Augustus II                 male    31.0  0      0      PC 17590  50.4958  A24            0.862069\n",
       "          872          1         1       Beckwith, Mrs. Richard Leonard (Sallie Monypeny)     female  47.0  1      1      11751     52.5542  D35            0.862069\n",
       "          873          0         1       Carlsson, Mr. Frans Olof                             male    33.0  0      0      695       5.0000   B51 B53 B55    0.862069\n",
       "          888          1         1       Graham, Miss. Margaret Edith                         female  19.0  0      0      112053    30.0000  B42            0.862069\n",
       "Name: proportion, Length: 183, dtype: float64"
      ]
     },
     "execution_count": 88,
     "metadata": {},
     "output_type": "execute_result"
    }
   ],
   "source": [
    "df.groupby(\"Embarked\").value_counts(normalize=True)*100"
   ]
  },
  {
   "cell_type": "markdown",
   "metadata": {
    "id": "4FIr_3CitqWP"
   },
   "source": [
    "### Soru 7: Yaşı 60'tan büyük olanların hayatta kalma oranını bulun."
   ]
  },
  {
   "cell_type": "code",
   "execution_count": 97,
   "metadata": {
    "id": "ma-OR5HFtqWP"
   },
   "outputs": [
    {
     "data": {
      "text/plain": [
       "np.float64(0.22727272727272727)"
      ]
     },
     "execution_count": 97,
     "metadata": {},
     "output_type": "execute_result"
    }
   ],
   "source": [
    "df[df[\"Age\"] > 60][\"Survived\"].mean()"
   ]
  },
  {
   "cell_type": "markdown",
   "metadata": {
    "id": "1t38XtRXtqWP"
   },
   "source": [
    "### Soru 8: `Sex`, `Pclass`, `Survived` için `groupby()` + `agg()` ile ortalama yaş ve ücret hesaplayın."
   ]
  },
  {
   "cell_type": "code",
   "execution_count": 99,
   "metadata": {
    "id": "itaLerC8tqWP"
   },
   "outputs": [
    {
     "data": {
      "text/html": [
       "<div>\n",
       "<style scoped>\n",
       "    .dataframe tbody tr th:only-of-type {\n",
       "        vertical-align: middle;\n",
       "    }\n",
       "\n",
       "    .dataframe tbody tr th {\n",
       "        vertical-align: top;\n",
       "    }\n",
       "\n",
       "    .dataframe thead th {\n",
       "        text-align: right;\n",
       "    }\n",
       "</style>\n",
       "<table border=\"1\" class=\"dataframe\">\n",
       "  <thead>\n",
       "    <tr style=\"text-align: right;\">\n",
       "      <th></th>\n",
       "      <th></th>\n",
       "      <th></th>\n",
       "      <th>Age</th>\n",
       "      <th>Fare</th>\n",
       "    </tr>\n",
       "    <tr>\n",
       "      <th>Sex</th>\n",
       "      <th>Pclass</th>\n",
       "      <th>Survived</th>\n",
       "      <th></th>\n",
       "      <th></th>\n",
       "    </tr>\n",
       "  </thead>\n",
       "  <tbody>\n",
       "    <tr>\n",
       "      <th rowspan=\"6\" valign=\"top\">female</th>\n",
       "      <th rowspan=\"2\" valign=\"top\">1</th>\n",
       "      <th>0</th>\n",
       "      <td>25.666667</td>\n",
       "      <td>110.604167</td>\n",
       "    </tr>\n",
       "    <tr>\n",
       "      <th>1</th>\n",
       "      <td>34.939024</td>\n",
       "      <td>105.978159</td>\n",
       "    </tr>\n",
       "    <tr>\n",
       "      <th rowspan=\"2\" valign=\"top\">2</th>\n",
       "      <th>0</th>\n",
       "      <td>36.000000</td>\n",
       "      <td>18.250000</td>\n",
       "    </tr>\n",
       "    <tr>\n",
       "      <th>1</th>\n",
       "      <td>28.080882</td>\n",
       "      <td>22.288989</td>\n",
       "    </tr>\n",
       "    <tr>\n",
       "      <th rowspan=\"2\" valign=\"top\">3</th>\n",
       "      <th>0</th>\n",
       "      <td>23.818182</td>\n",
       "      <td>19.773093</td>\n",
       "    </tr>\n",
       "    <tr>\n",
       "      <th>1</th>\n",
       "      <td>19.329787</td>\n",
       "      <td>12.464526</td>\n",
       "    </tr>\n",
       "    <tr>\n",
       "      <th rowspan=\"6\" valign=\"top\">male</th>\n",
       "      <th rowspan=\"2\" valign=\"top\">1</th>\n",
       "      <th>0</th>\n",
       "      <td>44.581967</td>\n",
       "      <td>62.894910</td>\n",
       "    </tr>\n",
       "    <tr>\n",
       "      <th>1</th>\n",
       "      <td>36.248000</td>\n",
       "      <td>74.637320</td>\n",
       "    </tr>\n",
       "    <tr>\n",
       "      <th rowspan=\"2\" valign=\"top\">2</th>\n",
       "      <th>0</th>\n",
       "      <td>33.369048</td>\n",
       "      <td>19.488965</td>\n",
       "    </tr>\n",
       "    <tr>\n",
       "      <th>1</th>\n",
       "      <td>16.022000</td>\n",
       "      <td>21.095100</td>\n",
       "    </tr>\n",
       "    <tr>\n",
       "      <th rowspan=\"2\" valign=\"top\">3</th>\n",
       "      <th>0</th>\n",
       "      <td>27.255814</td>\n",
       "      <td>12.204469</td>\n",
       "    </tr>\n",
       "    <tr>\n",
       "      <th>1</th>\n",
       "      <td>22.274211</td>\n",
       "      <td>15.579696</td>\n",
       "    </tr>\n",
       "  </tbody>\n",
       "</table>\n",
       "</div>"
      ],
      "text/plain": [
       "                              Age        Fare\n",
       "Sex    Pclass Survived                       \n",
       "female 1      0         25.666667  110.604167\n",
       "              1         34.939024  105.978159\n",
       "       2      0         36.000000   18.250000\n",
       "              1         28.080882   22.288989\n",
       "       3      0         23.818182   19.773093\n",
       "              1         19.329787   12.464526\n",
       "male   1      0         44.581967   62.894910\n",
       "              1         36.248000   74.637320\n",
       "       2      0         33.369048   19.488965\n",
       "              1         16.022000   21.095100\n",
       "       3      0         27.255814   12.204469\n",
       "              1         22.274211   15.579696"
      ]
     },
     "execution_count": 99,
     "metadata": {},
     "output_type": "execute_result"
    }
   ],
   "source": [
    "df.groupby([\"Sex\" , \"Pclass\" , \"Survived\"])[[\"Age\" , \"Fare\"]].agg(\"mean\")"
   ]
  },
  {
   "cell_type": "markdown",
   "metadata": {
    "id": "wOsjvK3BtqWU"
   },
   "source": [
    "### Soru 9: Age değişkenini artan düzende sıralayın ve ilk 10 kişiyi yazdırın."
   ]
  },
  {
   "cell_type": "code",
   "execution_count": 100,
   "metadata": {
    "id": "p8S2dV4_tqWU"
   },
   "outputs": [
    {
     "name": "stdout",
     "output_type": "stream",
     "text": [
      "     PassengerId  Survived  Pclass                             Name     Sex  \\\n",
      "803          804         1       3  Thomas, Master. Assad Alexander    male   \n",
      "755          756         1       2        Hamalainen, Master. Viljo    male   \n",
      "644          645         1       3           Baclini, Miss. Eugenie  female   \n",
      "469          470         1       3    Baclini, Miss. Helene Barbara  female   \n",
      "78            79         1       2    Caldwell, Master. Alden Gates    male   \n",
      "831          832         1       2  Richards, Master. George Sibley    male   \n",
      "305          306         1       1   Allison, Master. Hudson Trevor    male   \n",
      "827          828         1       2            Mallet, Master. Andre    male   \n",
      "381          382         1       3      Nakid, Miss. Maria (\"Mary\")  female   \n",
      "164          165         0       3     Panula, Master. Eino Viljami    male   \n",
      "\n",
      "      Age  SibSp  Parch           Ticket      Fare    Cabin Embarked  \n",
      "803  0.42      0      1             2625    8.5167      NaN        C  \n",
      "755  0.67      1      1           250649   14.5000      NaN        S  \n",
      "644  0.75      2      1             2666   19.2583      NaN        C  \n",
      "469  0.75      2      1             2666   19.2583      NaN        C  \n",
      "78   0.83      0      2           248738   29.0000      NaN        S  \n",
      "831  0.83      1      1            29106   18.7500      NaN        S  \n",
      "305  0.92      1      2           113781  151.5500  C22 C26        S  \n",
      "827  1.00      0      2  S.C./PARIS 2079   37.0042      NaN        C  \n",
      "381  1.00      0      2             2653   15.7417      NaN        C  \n",
      "164  1.00      4      1          3101295   39.6875      NaN        S  \n"
     ]
    }
   ],
   "source": [
    "print(df.sort_values(\"Age\").head(10))\n"
   ]
  },
  {
   "cell_type": "markdown",
   "metadata": {
    "id": "QSwPYXjWtqWU"
   },
   "source": [
    "---\n",
    "# 🧠 KİRLENMEK GÜZELDİR SORULARI :)\n",
    "---"
   ]
  },
  {
   "cell_type": "markdown",
   "metadata": {
    "id": "gMZKwg3RtqWV"
   },
   "source": [
    "### Soru 1: En pahalı bileti alan kişinin yaşı, cinsiyeti ve sınıfı nedir?"
   ]
  },
  {
   "cell_type": "code",
   "execution_count": 113,
   "metadata": {
    "id": "kGIwuPehtqWV"
   },
   "outputs": [
    {
     "name": "stdout",
     "output_type": "stream",
     "text": [
      "Bilet :        Age     Sex  Pclass\n",
      "258  35.0  female       1\n"
     ]
    }
   ],
   "source": [
    "high_fare = df[df[\"Fare\"] == df[\"Fare\"].max()][[\"Age\", \"Sex\", \"Pclass\"]].head(1)\n",
    "print(\"Bilet : \" , high_fare)"
   ]
  },
  {
   "cell_type": "markdown",
   "metadata": {
    "id": "oQQkWRGMtqWV"
   },
   "source": [
    "### Soru 2: Hayatta kalanlar ile ölenler arasında yaş ortalamaları farkı nedir?"
   ]
  },
  {
   "cell_type": "code",
   "execution_count": 17,
   "metadata": {
    "id": "wkZoYG9GtqWV"
   },
   "outputs": [
    {
     "name": "stdout",
     "output_type": "stream",
     "text": [
      "Hayatta Kalanlar :  28.343689655172415\n",
      "Ölenler :  30.62617924528302\n",
      "Fark :  -2.282489590110604\n"
     ]
    }
   ],
   "source": [
    "hayatta = df[df[\"Survived\"] == 1][\"Age\"].mean()\n",
    "ölenler = df[df[\"Survived\"] == 0][\"Age\"].mean()\n",
    "fark = hayatta - ölenler\n",
    "print(\"Hayatta Kalanlar : \", hayatta)\n",
    "print(\"Ölenler : \" , ölenler)\n",
    "print(\"Fark : \" , fark)"
   ]
  },
  {
   "cell_type": "markdown",
   "metadata": {
    "id": "HiVnYr-_tqWV"
   },
   "source": [
    "### Soru 3: Hangi `Pclass` grubunda kadınların hayatta kalma oranı en yüksektir?"
   ]
  },
  {
   "cell_type": "code",
   "execution_count": 26,
   "metadata": {
    "id": "aqhZQf-StqWV"
   },
   "outputs": [
    {
     "name": "stdout",
     "output_type": "stream",
     "text": [
      "En yüksek hayatta kalma oranına sahip sınıf: 1 . sınıf (% 96.80851063829788 )\n",
      "Tüm pclass gruplarına göre kadınların hayatta kalma oranı :\n",
      "Pclass\n",
      "1    0.968085\n",
      "2    0.921053\n",
      "3    0.500000\n",
      "Name: Survived, dtype: float64\n"
     ]
    }
   ],
   "source": [
    "kadınlar = df[df[\"Sex\"] == \"female\"]\n",
    "oranlar = kadınlar.groupby(\"Pclass\")[\"Survived\"].mean()\n",
    "en_yuksek_sinif = oranlar.idxmax()\n",
    "en_yuksek_oran = oranlar.max()\n",
    "print(\"En yüksek hayatta kalma oranına sahip sınıf:\", en_yuksek_sinif, \". sınıf (%\", en_yuksek_oran * 100, \")\")\n",
    "print(\"Tüm pclass gruplarına göre kadınların hayatta kalma oranı :\")\n",
    "print(oranlar)"
   ]
  },
  {
   "cell_type": "markdown",
   "metadata": {
    "id": "BgTznVUutqWW"
   },
   "source": [
    "### Soru 4: Ortalama yaşın altında olan ve hayatta kalan erkeklerin sayısı kaçtır?"
   ]
  },
  {
   "cell_type": "code",
   "execution_count": 25,
   "metadata": {
    "id": "OR1gzLFQtqWW"
   },
   "outputs": [
    {
     "name": "stdout",
     "output_type": "stream",
     "text": [
      "29.69911764705882\n",
      "51\n"
     ]
    }
   ],
   "source": [
    "ortalama_yas = df['Age'].mean()\n",
    "print(ortalama_yas)\n",
    "# cinsiyeti erkek olan , hayatta kalmış ve ortalama yaşın altında olanı sırasıyla yapıyoruz \n",
    "Cevap = (df['Sex'] == 'male') & (df['Survived'] == 1) & (df['Age'] < ortalama_yas)\n",
    "erkek_sayisi = df[Cevap].shape[0]\n",
    "#Shape bu satırların sayısını verir\n",
    "print(erkek_sayisi)\n"
   ]
  },
  {
   "cell_type": "markdown",
   "metadata": {
    "id": "Dmjz5eCKtqWW"
   },
   "source": [
    "### Soru 5: `Cabin` değeri eksik olmayanların yaş ortalaması ile eksik olanların yaş ortalaması arasında fark var mı?"
   ]
  },
  {
   "cell_type": "code",
   "execution_count": 28,
   "metadata": {
    "id": "HO2NdZsktqWW"
   },
   "outputs": [
    {
     "name": "stdout",
     "output_type": "stream",
     "text": [
      "Yaş ortalaması farkı :  8.274004291626216\n"
     ]
    }
   ],
   "source": [
    "#Titanik veri setinde cabin , yolcunun kamarasının (yani gemideki özel odasının) numarasını gösteren bir sütundur.\n",
    "# 1. Cabin bilgisi olanların yaş ortalaması\n",
    "yas1 = df[df[\"Cabin\"].notna()][\"Age\"].mean()\n",
    "# 2. Cabin bilgisi olmayanların yaş ortalaması\n",
    "yas2 = df[df[\"Cabin\"].isna()][\"Age\"].mean()\n",
    "print(\"Yaş ortalaması farkı : \" , yas1 - yas2)"
   ]
  },
  {
   "cell_type": "markdown",
   "metadata": {
    "id": "sD9aIWJAtqWW"
   },
   "source": [
    "### Soru 6: `.describe()` çıktısına göre çarpıklık var mı? Hangi değişkenlerde?"
   ]
  },
  {
   "cell_type": "code",
   "execution_count": 43,
   "metadata": {
    "id": "AqgiYrdDtqWX"
   },
   "outputs": [
    {
     "name": "stdout",
     "output_type": "stream",
     "text": [
      "       PassengerId  Survived  Pclass    Age  SibSp  Parch   Fare\n",
      "count        891.0     891.0   891.0  714.0  891.0  891.0  891.0\n",
      "mean         446.0       0.0     2.0   30.0    1.0    0.0   32.0\n",
      "std          257.0       0.0     1.0   15.0    1.0    1.0   50.0\n",
      "min            1.0       0.0     1.0    0.0    0.0    0.0    0.0\n",
      "25%          224.0       0.0     2.0   20.0    0.0    0.0    8.0\n",
      "50%          446.0       0.0     3.0   28.0    0.0    0.0   14.0\n",
      "75%          668.0       1.0     3.0   38.0    1.0    0.0   31.0\n",
      "max          891.0       1.0     3.0   80.0    8.0    6.0  512.0\n",
      " Sağa çarpık olanlar : Age ,SipSp,Fare\n"
     ]
    }
   ],
   "source": [
    "int(df[\"Fare\"].mean()),int(df[\"Fare\"].median())\n",
    "#Ortalama > Medyan = pozitif çarpıklık(sağa çarpık) \n",
    "print(df.describe().round(0))\n",
    "#ortalama mean ve %50 değeri de medyandır\n",
    "print(\" Sağa çarpık olanlar : Age ,SipSp,Fare\")\n",
    "\n"
   ]
  },
  {
   "cell_type": "markdown",
   "metadata": {
    "id": "d2OVTsQotqWX"
   },
   "source": [
    "### Soru 7: Veri setindeki en fazla tekrarlanan yaş değeri (mod) nedir?"
   ]
  },
  {
   "cell_type": "code",
   "execution_count": 48,
   "metadata": {
    "id": "4mkLEoyotqWX"
   },
   "outputs": [
    {
     "name": "stdout",
     "output_type": "stream",
     "text": [
      "En fazla tekrarlanan yaş değeri : [24.]\n"
     ]
    }
   ],
   "source": [
    "mod_yas = df[\"Age\"].mode()\n",
    "print(\"En fazla tekrarlanan yaş değeri :\" , mod_yas.values)\n",
    "#En fazla tekrarlanan yaş 24tür\n"
   ]
  },
  {
   "cell_type": "markdown",
   "metadata": {
    "id": "0S76-J92tqWX"
   },
   "source": [
    "### Soru 8: Ortalama bilet fiyatı kadınlar mı yoksa erkekler için mi daha yüksek?"
   ]
  },
  {
   "cell_type": "code",
   "execution_count": 52,
   "metadata": {
    "id": "qtXbWYo7tqWX"
   },
   "outputs": [
    {
     "data": {
      "text/plain": [
       "Sex\n",
       "female    44.479818\n",
       "male      25.523893\n",
       "Name: Fare, dtype: float64"
      ]
     },
     "execution_count": 52,
     "metadata": {},
     "output_type": "execute_result"
    }
   ],
   "source": [
    "df.groupby(\"Sex\")[\"Fare\"].mean()\n",
    "#Kadınların ödediği bilet fiyatı daha yüksektir.\n"
   ]
  }
 ],
 "metadata": {
  "colab": {
   "provenance": []
  },
  "kernelspec": {
   "display_name": "Python 3",
   "language": "python",
   "name": "python3"
  },
  "language_info": {
   "codemirror_mode": {
    "name": "ipython",
    "version": 3
   },
   "file_extension": ".py",
   "mimetype": "text/x-python",
   "name": "python",
   "nbconvert_exporter": "python",
   "pygments_lexer": "ipython3",
   "version": "3.9.6"
  }
 },
 "nbformat": 4,
 "nbformat_minor": 0
}
