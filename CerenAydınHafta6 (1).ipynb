{
 "cells": [
  {
   "cell_type": "code",
   "execution_count": 2,
   "id": "a8229806",
   "metadata": {},
   "outputs": [],
   "source": [
    "import pandas as pd\n",
    "from sklearn.model_selection import train_test_split\n",
    "from sklearn.preprocessing import StandardScaler\n",
    "from sklearn.linear_model import LogisticRegression\n",
    "from sklearn.metrics import accuracy_score\n",
    "from sklearn.metrics import confusion_matrix\n",
    "import seaborn as sns\n",
    "import matplotlib.pyplot as plt\n",
    "from sklearn.metrics import classification_report\n",
    "from sklearn.metrics import confusion_matrix, classification_report"
   ]
  },
  {
   "cell_type": "code",
   "execution_count": 3,
   "id": "333c18a1",
   "metadata": {},
   "outputs": [
    {
     "name": "stdout",
     "output_type": "stream",
     "text": [
      "   Serial No.  GRE Score  TOEFL Score  University Rating  SOP  LOR   CGPA  \\\n",
      "0           1        337          118                  4  4.5   4.5  9.65   \n",
      "1           2        324          107                  4  4.0   4.5  8.87   \n",
      "2           3        316          104                  3  3.0   3.5  8.00   \n",
      "3           4        322          110                  3  3.5   2.5  8.67   \n",
      "4           5        314          103                  2  2.0   3.0  8.21   \n",
      "\n",
      "   Research  Chance of Admit   \n",
      "0         1              0.92  \n",
      "1         1              0.76  \n",
      "2         1              0.72  \n",
      "3         1              0.80  \n",
      "4         0              0.65  \n"
     ]
    }
   ],
   "source": [
    "# Veri setini yükle\n",
    "df = pd.read_csv(\"Admission_Predict.csv\")\n",
    "\n",
    "# İlk 5 satırı görüntüle\n",
    "print(df.head())"
   ]
  },
  {
   "cell_type": "code",
   "execution_count": 4,
   "id": "a4bface9",
   "metadata": {},
   "outputs": [
    {
     "name": "stdout",
     "output_type": "stream",
     "text": [
      "Serial No.           0\n",
      "GRE Score            0\n",
      "TOEFL Score          0\n",
      "University Rating    0\n",
      "SOP                  0\n",
      "LOR                  0\n",
      "CGPA                 0\n",
      "Research             0\n",
      "Chance of Admit      0\n",
      "dtype: int64\n"
     ]
    }
   ],
   "source": [
    "# Eksik değer kontrolü\n",
    "print(df.isnull().sum())\n",
    "# Eksik verileri içeren satırları kaldır (eğer varsa)\n",
    "df = df.dropna()"
   ]
  },
  {
   "cell_type": "code",
   "execution_count": 5,
   "id": "89bfbadc",
   "metadata": {},
   "outputs": [
    {
     "name": "stdout",
     "output_type": "stream",
     "text": [
      "   Chance of Admit   Admit\n",
      "0              0.92      1\n",
      "1              0.76      1\n",
      "2              0.72      0\n",
      "3              0.80      1\n",
      "4              0.65      0\n"
     ]
    }
   ],
   "source": [
    "# Hedef değişkeni dönüştürülüyor\n",
    "df['Admit'] = (df['Chance of Admit '] >= 0.75).astype(int)\n",
    "# Kontrol edelim\n",
    "print(df[['Chance of Admit ', 'Admit']].head())"
   ]
  },
  {
   "cell_type": "code",
   "execution_count": 6,
   "id": "7a08d79d",
   "metadata": {},
   "outputs": [],
   "source": [
    "# Bağımsız değişkenler\n",
    "X = df[['GRE Score', 'TOEFL Score', 'University Rating', 'SOP', 'LOR ', 'CGPA', 'Research']]\n",
    "# Hedef değişken\n",
    "y = df['Admit']"
   ]
  },
  {
   "cell_type": "code",
   "execution_count": 7,
   "id": "55d0e14f",
   "metadata": {},
   "outputs": [
    {
     "name": "stdout",
     "output_type": "stream",
     "text": [
      "Eğitim verisi boyutu: (320, 7)\n",
      "Test verisi boyutu: (80, 7)\n"
     ]
    }
   ],
   "source": [
    "# Veriyi eğitim ve test setine bölelim (%80 eğitim, %20 test)\n",
    "X_train, X_test, y_train, y_test = train_test_split(X, y, test_size=0.2, random_state=42)\n",
    "# Boyutları kontrol edelim\n",
    "print(\"Eğitim verisi boyutu:\", X_train.shape)\n",
    "print(\"Test verisi boyutu:\", X_test.shape)"
   ]
  },
  {
   "cell_type": "code",
   "execution_count": 8,
   "id": "ed447fde",
   "metadata": {},
   "outputs": [],
   "source": [
    "# StandardScaler nesnesini oluştur\n",
    "scaler = StandardScaler()\n",
    "# Sadece bağımsız değişkenleri (X_train ve X_test) ölçeklendireceğiz\n",
    "X_train_scaled = scaler.fit_transform(X_train)\n",
    "X_test_scaled = scaler.transform(X_test)"
   ]
  },
  {
   "cell_type": "code",
   "execution_count": 9,
   "id": "7a81a67e",
   "metadata": {},
   "outputs": [],
   "source": [
    "# Model nesnesini oluştur\n",
    "model = LogisticRegression()"
   ]
  },
  {
   "cell_type": "code",
   "execution_count": 10,
   "id": "1b63e81b",
   "metadata": {},
   "outputs": [
    {
     "name": "stdout",
     "output_type": "stream",
     "text": [
      "Model eğitim tamamlandı.\n"
     ]
    }
   ],
   "source": [
    "# Modeli eğit (ölçeklenmiş eğitim verisiyle)\n",
    "model.fit(X_train_scaled, y_train)\n",
    "# Modeli tekrar eğitim verisi üzerinde eğitelim\n",
    "model.fit(X_train_scaled, y_train)\n",
    "\n",
    "print(\"Model eğitim tamamlandı.\")"
   ]
  },
  {
   "cell_type": "code",
   "execution_count": 11,
   "id": "3b82d47a",
   "metadata": {},
   "outputs": [
    {
     "name": "stdout",
     "output_type": "stream",
     "text": [
      "[0 1 1 1 0 1 0 0 0 1]\n"
     ]
    }
   ],
   "source": [
    "# Test verisi üzerinde tahmin yap\n",
    "y_pred = model.predict(X_test_scaled)\n",
    "\n",
    "# İlk 10 tahmini görelim\n",
    "print(y_pred[:10])\n"
   ]
  },
  {
   "cell_type": "code",
   "execution_count": 12,
   "id": "c1c042fc",
   "metadata": {},
   "outputs": [
    {
     "name": "stdout",
     "output_type": "stream",
     "text": [
      "Modelin doğruluk oranı: 0.4125\n"
     ]
    },
    {
     "name": "stderr",
     "output_type": "stream",
     "text": [
      "c:\\Users\\ceren\\AppData\\Local\\Programs\\Python\\Python313\\Lib\\site-packages\\sklearn\\utils\\validation.py:2742: UserWarning: X has feature names, but LogisticRegression was fitted without feature names\n",
      "  warnings.warn(\n"
     ]
    }
   ],
   "source": [
    "# Model tahminlerini yap (örneğin test verisi X_test üzerinde)\n",
    "y_pred = model.predict(X_test)\n",
    "\n",
    "# Gerçek ve tahmin edilen değerleri kullanarak doğruluk oranını hesapla\n",
    "accuracy = accuracy_score(y_test, y_pred)\n",
    "\n",
    "print(f\"Modelin doğruluk oranı: {accuracy:.4f}\")"
   ]
  },
  {
   "cell_type": "code",
   "execution_count": 19,
   "id": "c8f52a11",
   "metadata": {},
   "outputs": [
    {
     "name": "stderr",
     "output_type": "stream",
     "text": [
      "c:\\Users\\ceren\\AppData\\Local\\Programs\\Python\\Python313\\Lib\\site-packages\\sklearn\\utils\\validation.py:2742: UserWarning: X has feature names, but LogisticRegression was fitted without feature names\n",
      "  warnings.warn(\n"
     ]
    },
    {
     "data": {
      "image/png": "[encoded data removed]",
      "text/plain": [
       "<Figure size 600x400 with 2 Axes>"
      ]
     },
     "metadata": {},
     "output_type": "display_data"
    }
   ],
   "source": [
    "# Tahminleri alalım\n",
    "y_pred = model.predict(X_test)\n",
    "\n",
    "# Confusion matrix'i hesapla\n",
    "cm = confusion_matrix(y_test, y_pred)\n",
    "\n",
    "# Matrisi görselleştir\n",
    "plt.figure(figsize=(6,4))\n",
    "sns.heatmap(cm, annot=True, fmt='d', cmap='Purples', xticklabels=['Negatif', 'Pozitif'], yticklabels=['Negatif', 'Pozitif'])\n",
    "plt.xlabel('Tahmin Edilen')\n",
    "plt.ylabel('Gerçek')\n",
    "plt.title('Confusion Matrix')\n",
    "plt.show()"
   ]
  },
  {
   "cell_type": "code",
   "execution_count": 13,
   "id": "db136743",
   "metadata": {},
   "outputs": [
    {
     "name": "stdout",
     "output_type": "stream",
     "text": [
      "              precision    recall  f1-score   support\n",
      "\n",
      "     Negatif       0.00      0.00      0.00        47\n",
      "     Pozitif       0.41      1.00      0.58        33\n",
      "\n",
      "    accuracy                           0.41        80\n",
      "   macro avg       0.21      0.50      0.29        80\n",
      "weighted avg       0.17      0.41      0.24        80\n",
      "\n"
     ]
    },
    {
     "name": "stderr",
     "output_type": "stream",
     "text": [
      "c:\\Users\\ceren\\AppData\\Local\\Programs\\Python\\Python313\\Lib\\site-packages\\sklearn\\metrics\\_classification.py:1706: UndefinedMetricWarning: Precision is ill-defined and being set to 0.0 in labels with no predicted samples. Use `zero_division` parameter to control this behavior.\n",
      "  _warn_prf(average, modifier, f\"{metric.capitalize()} is\", result.shape[0])\n",
      "c:\\Users\\ceren\\AppData\\Local\\Programs\\Python\\Python313\\Lib\\site-packages\\sklearn\\metrics\\_classification.py:1706: UndefinedMetricWarning: Precision is ill-defined and being set to 0.0 in labels with no predicted samples. Use `zero_division` parameter to control this behavior.\n",
      "  _warn_prf(average, modifier, f\"{metric.capitalize()} is\", result.shape[0])\n",
      "c:\\Users\\ceren\\AppData\\Local\\Programs\\Python\\Python313\\Lib\\site-packages\\sklearn\\metrics\\_classification.py:1706: UndefinedMetricWarning: Precision is ill-defined and being set to 0.0 in labels with no predicted samples. Use `zero_division` parameter to control this behavior.\n",
      "  _warn_prf(average, modifier, f\"{metric.capitalize()} is\", result.shape[0])\n"
     ]
    }
   ],
   "source": [
    "# Modelin tahminlerini alalım (y_pred zaten varsa)\n",
    "print(classification_report(y_test, y_pred, target_names=['Negatif', 'Pozitif']))\n"
   ]
  },
  {
   "cell_type": "code",
   "execution_count": 14,
   "id": "e3eaddfe",
   "metadata": {},
   "outputs": [
    {
     "name": "stdout",
     "output_type": "stream",
     "text": [
      "     Gerçek Değer  Tahmin Edilen Olasılık\n",
      "209             0                     1.0\n",
      "280             0                     1.0\n",
      "33              1                     1.0\n",
      "210             1                     1.0\n",
      "93              0                     1.0\n",
      "84              1                     1.0\n",
      "329             0                     1.0\n",
      "94              0                     1.0\n",
      "266             0                     1.0\n",
      "126             1                     1.0\n"
     ]
    },
    {
     "name": "stderr",
     "output_type": "stream",
     "text": [
      "c:\\Users\\ceren\\AppData\\Local\\Programs\\Python\\Python313\\Lib\\site-packages\\sklearn\\utils\\validation.py:2742: UserWarning: X has feature names, but LogisticRegression was fitted without feature names\n",
      "  warnings.warn(\n"
     ]
    }
   ],
   "source": [
    "# Modelin tahmin ettiği olasılıkları alıyoruz (pozitif sınıf için)\n",
    "y_prob = model.predict_proba(X_test)[:, 1]\n",
    "\n",
    "# Gerçek değerlerle ve olasılıklarla bir DataFrame oluşturalım\n",
    "import pandas as pd\n",
    "\n",
    "results = pd.DataFrame({\n",
    "    'Gerçek Değer': y_test,\n",
    "    'Tahmin Edilen Olasılık': y_prob\n",
    "})\n",
    "\n",
    "# İlk 10 satırı gösterelim\n",
    "print(results.head(10))\n"
   ]
  },
  {
   "cell_type": "code",
   "execution_count": 17,
   "id": "ed2f859d",
   "metadata": {},
   "outputs": [
    {
     "name": "stdout",
     "output_type": "stream",
     "text": [
      "Epoch 1: w = 0.0500, b = 0.0000\n",
      "Epoch 2: w = 0.0906, b = -0.0031\n",
      "Epoch 3: w = 0.1240, b = -0.0087\n",
      "Epoch 4: w = 0.1516, b = -0.0161\n",
      "Epoch 5: w = 0.1747, b = -0.0250\n",
      "Epoch 6: w = 0.1944, b = -0.0351\n",
      "Epoch 7: w = 0.2112, b = -0.0460\n",
      "Epoch 8: w = 0.2259, b = -0.0577\n",
      "Epoch 9: w = 0.2387, b = -0.0699\n",
      "Epoch 10: w = 0.2502, b = -0.0826\n"
     ]
    }
   ],
   "source": [
    "import numpy as np\n",
    "\n",
    "# Örnek veri\n",
    "X = np.array([[1], [2], [3], [4]])\n",
    "y = np.array([0, 0, 1, 1])\n",
    "\n",
    "# Sigmoid fonksiyonu\n",
    "def sigmoid(z):\n",
    "    return 1 / (1 + np.exp(-z))\n",
    "\n",
    "# Başlangıç\n",
    "w = np.array([0.0])  # Tek elemanlı array\n",
    "b = 0.0\n",
    "lr = 0.1\n",
    "epochs = 10\n",
    "\n",
    "for i in range(epochs):\n",
    "    z = np.dot(X, w) + b\n",
    "    y_pred = sigmoid(z)\n",
    "\n",
    "    dw = np.dot(X.T, (y_pred - y)) / len(y)\n",
    "    db = np.sum(y_pred - y) / len(y)\n",
    "\n",
    "    w -= lr * dw.T  # w'nin şekli (1, 1) olabilir, transpoz ile uyumlu hale getiriyoruz\n",
    "    b -= lr * db\n",
    "\n",
    "    # Çıktı yazdırırken float formatına çeviriyoruz\n",
    "    print(f\"Epoch {i+1}: w = {float(w[0]):.4f}, b = {b:.4f}\")\n"
   ]
  },
  {
   "cell_type": "code",
   "execution_count": 19,
   "id": "4ddbc741",
   "metadata": {},
   "outputs": [
    {
     "name": "stdout",
     "output_type": "stream",
     "text": [
      "Epoch 1: loss = 0.693147, change = inf\n",
      "Epoch 2: loss = 0.670488, change = 0.022659\n",
      "Epoch 3: loss = 0.655322, change = 0.015167\n",
      "Epoch 4: loss = 0.644806, change = 0.010515\n",
      "Epoch 5: loss = 0.637188, change = 0.007618\n",
      "Epoch 6: loss = 0.631391, change = 0.005797\n",
      "Epoch 7: loss = 0.626752, change = 0.004639\n",
      "Epoch 8: loss = 0.622860, change = 0.003893\n",
      "Epoch 9: loss = 0.619454, change = 0.003405\n",
      "Epoch 10: loss = 0.616372, change = 0.003083\n",
      "Epoch 11: loss = 0.613507, change = 0.002865\n",
      "Epoch 12: loss = 0.610790, change = 0.002716\n",
      "Epoch 13: loss = 0.608179, change = 0.002612\n",
      "Epoch 14: loss = 0.605642, change = 0.002537\n",
      "Epoch 15: loss = 0.603161, change = 0.002481\n",
      "Epoch 16: loss = 0.600723, change = 0.002438\n",
      "Epoch 17: loss = 0.598319, change = 0.002404\n",
      "Epoch 18: loss = 0.595943, change = 0.002376\n",
      "Epoch 19: loss = 0.593592, change = 0.002351\n",
      "Epoch 20: loss = 0.591263, change = 0.002330\n",
      "Epoch 21: loss = 0.588953, change = 0.002310\n",
      "Epoch 22: loss = 0.586661, change = 0.002291\n",
      "Epoch 23: loss = 0.584388, change = 0.002274\n",
      "Epoch 24: loss = 0.582131, change = 0.002257\n",
      "Epoch 25: loss = 0.579891, change = 0.002240\n",
      "Epoch 26: loss = 0.577667, change = 0.002224\n",
      "Epoch 27: loss = 0.575459, change = 0.002208\n",
      "Epoch 28: loss = 0.573266, change = 0.002193\n",
      "Epoch 29: loss = 0.571089, change = 0.002177\n",
      "Epoch 30: loss = 0.568927, change = 0.002162\n",
      "Epoch 31: loss = 0.566781, change = 0.002147\n",
      "Epoch 32: loss = 0.564649, change = 0.002132\n",
      "Epoch 33: loss = 0.562532, change = 0.002117\n",
      "Epoch 34: loss = 0.560430, change = 0.002102\n",
      "Epoch 35: loss = 0.558343, change = 0.002087\n",
      "Epoch 36: loss = 0.556270, change = 0.002073\n",
      "Epoch 37: loss = 0.554212, change = 0.002058\n",
      "Epoch 38: loss = 0.552168, change = 0.002044\n",
      "Epoch 39: loss = 0.550138, change = 0.002030\n",
      "Epoch 40: loss = 0.548122, change = 0.002016\n",
      "Epoch 41: loss = 0.546120, change = 0.002002\n",
      "Epoch 42: loss = 0.544132, change = 0.001988\n",
      "Epoch 43: loss = 0.542158, change = 0.001974\n",
      "Epoch 44: loss = 0.540197, change = 0.001961\n",
      "Epoch 45: loss = 0.538250, change = 0.001947\n",
      "Epoch 46: loss = 0.536317, change = 0.001934\n",
      "Epoch 47: loss = 0.534396, change = 0.001920\n",
      "Epoch 48: loss = 0.532489, change = 0.001907\n",
      "Epoch 49: loss = 0.530596, change = 0.001894\n",
      "Epoch 50: loss = 0.528715, change = 0.001881\n",
      "Epoch 51: loss = 0.526847, change = 0.001868\n",
      "Epoch 52: loss = 0.524992, change = 0.001855\n",
      "Epoch 53: loss = 0.523149, change = 0.001842\n",
      "Epoch 54: loss = 0.521320, change = 0.001830\n",
      "Epoch 55: loss = 0.519502, change = 0.001817\n",
      "Epoch 56: loss = 0.517698, change = 0.001805\n",
      "Epoch 57: loss = 0.515905, change = 0.001792\n",
      "Epoch 58: loss = 0.514125, change = 0.001780\n",
      "Epoch 59: loss = 0.512357, change = 0.001768\n",
      "Epoch 60: loss = 0.510601, change = 0.001756\n",
      "Epoch 61: loss = 0.508857, change = 0.001744\n",
      "Epoch 62: loss = 0.507124, change = 0.001732\n",
      "Epoch 63: loss = 0.505404, change = 0.001721\n",
      "Epoch 64: loss = 0.503695, change = 0.001709\n",
      "Epoch 65: loss = 0.501998, change = 0.001697\n",
      "Epoch 66: loss = 0.500312, change = 0.001686\n",
      "Epoch 67: loss = 0.498637, change = 0.001674\n",
      "Epoch 68: loss = 0.496974, change = 0.001663\n",
      "Epoch 69: loss = 0.495322, change = 0.001652\n",
      "Epoch 70: loss = 0.493682, change = 0.001641\n",
      "Epoch 71: loss = 0.492052, change = 0.001630\n",
      "Epoch 72: loss = 0.490433, change = 0.001619\n",
      "Epoch 73: loss = 0.488825, change = 0.001608\n",
      "Epoch 74: loss = 0.487227, change = 0.001597\n",
      "Epoch 75: loss = 0.485641, change = 0.001587\n",
      "Epoch 76: loss = 0.484065, change = 0.001576\n",
      "Epoch 77: loss = 0.482499, change = 0.001566\n",
      "Epoch 78: loss = 0.480944, change = 0.001555\n",
      "Epoch 79: loss = 0.479399, change = 0.001545\n",
      "Epoch 80: loss = 0.477865, change = 0.001535\n",
      "Epoch 81: loss = 0.476340, change = 0.001524\n",
      "Epoch 82: loss = 0.474826, change = 0.001514\n",
      "Epoch 83: loss = 0.473321, change = 0.001504\n",
      "Epoch 84: loss = 0.471827, change = 0.001494\n",
      "Epoch 85: loss = 0.470342, change = 0.001485\n",
      "Epoch 86: loss = 0.468867, change = 0.001475\n",
      "Epoch 87: loss = 0.467402, change = 0.001465\n",
      "Epoch 88: loss = 0.465947, change = 0.001456\n",
      "Epoch 89: loss = 0.464501, change = 0.001446\n",
      "Epoch 90: loss = 0.463064, change = 0.001437\n",
      "Epoch 91: loss = 0.461637, change = 0.001427\n",
      "Epoch 92: loss = 0.460218, change = 0.001418\n",
      "Epoch 93: loss = 0.458810, change = 0.001409\n",
      "Epoch 94: loss = 0.457410, change = 0.001400\n",
      "Epoch 95: loss = 0.456019, change = 0.001391\n",
      "Epoch 96: loss = 0.454638, change = 0.001382\n",
      "Epoch 97: loss = 0.453265, change = 0.001373\n",
      "Epoch 98: loss = 0.451901, change = 0.001364\n",
      "Epoch 99: loss = 0.450546, change = 0.001355\n",
      "Epoch 100: loss = 0.449199, change = 0.001346\n"
     ]
    }
   ],
   "source": [
    "import numpy as np\n",
    "\n",
    "# Sigmoid ve Loss fonksiyonu\n",
    "def sigmoid(z):\n",
    "    return 1 / (1 + np.exp(-z))\n",
    "\n",
    "def binary_cross_entropy(y_true, y_pred):\n",
    "    epsilon = 1e-10  # log(0)'ı engellemek için\n",
    "    y_pred = np.clip(y_pred, epsilon, 1 - epsilon)\n",
    "    return -np.mean(y_true * np.log(y_pred) + (1 - y_true) * np.log(1 - y_pred))\n",
    "\n",
    "# Veri\n",
    "X = np.array([[1], [2], [3], [4]])\n",
    "y = np.array([0, 0, 1, 1])\n",
    "\n",
    "# Başlangıç değerleri\n",
    "w = np.array([0.0])\n",
    "b = 0.0\n",
    "lr = 0.1\n",
    "epochs = 100\n",
    "tol = 1e-4  # Erken durma toleransı\n",
    "\n",
    "prev_loss = float('inf')\n",
    "\n",
    "for epoch in range(epochs):\n",
    "    z = np.dot(X, w) + b\n",
    "    y_pred = sigmoid(z)\n",
    "    \n",
    "    loss = binary_cross_entropy(y, y_pred)\n",
    "\n",
    "    # Gradients\n",
    "    dw = np.dot(X.T, (y_pred - y)) / len(y)\n",
    "    db = np.sum(y_pred - y) / len(y)\n",
    "\n",
    "    # Güncelleme\n",
    "    w -= lr * dw.T\n",
    "    b -= lr * db\n",
    "\n",
    "    # Loss değişimini kontrol et\n",
    "    loss_change = abs(prev_loss - loss)\n",
    "    print(f\"Epoch {epoch+1}: loss = {loss:.6f}, change = {loss_change:.6f}\")\n",
    "\n",
    "    if loss_change < tol:\n",
    "        print(f\" Eğitim durdu (Epoch {epoch+1}) çünkü loss değişimi {loss_change:.6f} < tol ({tol})\")\n",
    "        break\n",
    "\n",
    "    prev_loss = loss\n"
   ]
  },
  {
   "cell_type": "code",
   "execution_count": 21,
   "id": "a88ee68a",
   "metadata": {},
   "outputs": [
    {
     "name": "stdout",
     "output_type": "stream",
     "text": [
      "GRE Score: 0.052\n",
      "TOEFL Score: 0.036\n",
      "LOR: 0.030\n",
      "University Rating: 0.017\n",
      "SOP: 0.006\n"
     ]
    }
   ],
   "source": [
    "import pandas as pd\n",
    "from sklearn.linear_model import LinearRegression\n",
    "from sklearn.preprocessing import StandardScaler\n",
    "\n",
    "# Veri setini oku\n",
    "df = pd.read_csv(\"admission_predict.csv\")\n",
    "\n",
    "# Giriş ve hedef değişkenleri ayır\n",
    "X = df[['GRE Score', 'TOEFL Score', 'University Rating', 'SOP', 'LOR ']]\n",
    "y = df['Chance of Admit ']\n",
    "\n",
    "# Özellikleri ölçeklendir (isteğe bağlı ama önemli)\n",
    "scaler = StandardScaler()\n",
    "X_scaled = scaler.fit_transform(X)\n",
    "\n",
    "# Modeli eğit\n",
    "model = LinearRegression()\n",
    "model.fit(X_scaled, y)\n",
    "\n",
    "# Ağırlıkları al\n",
    "feature_names = ['GRE Score', 'TOEFL Score', 'University Rating', 'SOP', 'LOR']\n",
    "weights = model.coef_\n",
    "\n",
    "# Önem sırasına göre sırala\n",
    "importance = sorted(zip(feature_names, weights), key=lambda x: abs(x[1]), reverse=True)\n",
    "\n",
    "# Yazdır\n",
    "for name, weight in importance:\n",
    "    print(f\"{name}: {weight:.3f}\")\n"
   ]
  },
  {
   "cell_type": "code",
   "execution_count": 22,
   "id": "b45f435c",
   "metadata": {},
   "outputs": [
    {
     "name": "stdout",
     "output_type": "stream",
     "text": [
      "Eşik = 0.5 → Doğruluk: 0.912\n",
      "Eşik = 0.7 → Doğruluk: 0.912\n",
      "Eşik = 0.8 → Doğruluk: 0.925\n"
     ]
    }
   ],
   "source": [
    "# 1. Veri yükle\n",
    "df = pd.read_csv(\"admission_predict.csv\")\n",
    "\n",
    "# 2. Giriş ve hedef değişkenleri ayır\n",
    "X = df[['GRE Score', 'TOEFL Score', 'University Rating', 'SOP', 'LOR ']]\n",
    "y = df['Chance of Admit ']\n",
    "\n",
    "# 3. Eğitim-test ayırımı\n",
    "X_train, X_test, y_train, y_test = train_test_split(X, y, test_size=0.2, random_state=42)\n",
    "\n",
    "# 4. Özellikleri ölçeklendir\n",
    "scaler = StandardScaler()\n",
    "X_train_scaled = scaler.fit_transform(X_train)\n",
    "X_test_scaled = scaler.transform(X_test)\n",
    "\n",
    "# 5. Modeli eğit\n",
    "model = LinearRegression()\n",
    "model.fit(X_train_scaled, y_train)\n",
    "\n",
    "# 6. Tahmin yap\n",
    "y_pred = model.predict(X_test_scaled)\n",
    "\n",
    "# 7. Alternatif eşiklerle sınıflandırma\n",
    "for threshold in [0.5, 0.7, 0.8]:\n",
    "    y_pred_class = (y_pred >= threshold).astype(int)\n",
    "    y_true_class = (y_test >= threshold).astype(int)\n",
    "    acc = accuracy_score(y_true_class, y_pred_class)\n",
    "    print(f\"Eşik = {threshold} → Doğruluk: {acc:.3f}\")\n"
   ]
  },
  {
   "cell_type": "code",
   "execution_count": 24,
   "id": "22ccdbd4",
   "metadata": {},
   "outputs": [
    {
     "data": {
      "text/plain": [
       "'\\nBu veri seti oldukça sınırlı. \\nGerçek başvuru verileri ya da benzer kaynaklardan alınan ek verilerle modelin genelleme gücü artabilir.\\n'"
      ]
     },
     "execution_count": 24,
     "metadata": {},
     "output_type": "execute_result"
    }
   ],
   "source": [
    "'''\n",
    "Bu veri seti oldukça sınırlı. \n",
    "Gerçek başvuru verileri ya da benzer kaynaklardan alınan ek verilerle modelin genelleme gücü artabilir.\n",
    "'''"
   ]
  },
  {
   "cell_type": "code",
   "execution_count": 27,
   "id": "5094bbe3",
   "metadata": {},
   "outputs": [
    {
     "data": {
      "text/plain": [
       "'\\nSadece doğruluk değil, R² skoru, RMSE, MAE gibi regresyon metrikleriyle performans ölçülebilir.\\n\\n'"
      ]
     },
     "execution_count": 27,
     "metadata": {},
     "output_type": "execute_result"
    }
   ],
   "source": [
    "'''\n",
    "Sadece doğruluk değil, R² skoru, RMSE, MAE gibi regresyon metrikleriyle performans ölçülebilir.\n",
    "\n",
    "'''"
   ]
  },
  {
   "cell_type": "code",
   "execution_count": null,
   "id": "9edcd0ff",
   "metadata": {},
   "outputs": [],
   "source": []
  }
 ],
 "metadata": {
  "kernelspec": {
   "display_name": "Python 3",
   "language": "python",
   "name": "python3"
  },
  "language_info": {
   "codemirror_mode": {
    "name": "ipython",
    "version": 3
   },
   "file_extension": ".py",
   "mimetype": "text/x-python",
   "name": "python",
   "nbconvert_exporter": "python",
   "pygments_lexer": "ipython3",
   "version": "3.13.5"
  }
 },
 "nbformat": 4,
 "nbformat_minor": 5
}
